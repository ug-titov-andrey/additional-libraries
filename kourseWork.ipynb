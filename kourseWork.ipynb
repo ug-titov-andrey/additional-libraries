{
 "cells": [
  {
   "cell_type": "markdown",
   "id": "b57a48b4",
   "metadata": {},
   "source": [
    "# Курсовая работа"
   ]
  },
  {
   "cell_type": "markdown",
   "id": "b7d68c27",
   "metadata": {},
   "source": [
    "### Требования  \n",
    "**Построение модели классификации**\n",
    "1. Обзор обучающего датасета\n",
    "2. Обработка выбросов\n",
    "3. Обработка пропусков\n",
    "4. Анализ данных\n",
    "5. Отбор признаков\n",
    "6. Балансировка классов\n",
    "7. Подбор моделей, получение бейзлана\n",
    "8. Выбор наилучшей модели, настройка гиперпараметров\n",
    "9. Проверка качества, борьба с переобучением\n",
    "10. Интерпретация результатов\n",
    "\n",
    "**Прогнозирование на тестовом датасете**\n",
    "1. Выполнить для тестового датасета те же этапы обработки и построения признаков\n",
    "2. Спрогнозировать целевую переменную, используя модель, построенную на обучающем датасете\n",
    "3. Прогнозы должны быть для всех примеров из тестового датасета (для всех строк)\n",
    "4. Соблюдать исходный порядок примеров из тестового датасета"
   ]
  },
  {
   "cell_type": "markdown",
   "id": "53f19006",
   "metadata": {},
   "source": [
    "***подключим основные библиотеки***"
   ]
  },
  {
   "cell_type": "code",
   "execution_count": 1,
   "id": "ac640e58",
   "metadata": {},
   "outputs": [],
   "source": [
    "import numpy as np\n",
    "import pandas as pd\n",
    "import pickle\n",
    "import matplotlib.pyplot as plt\n",
    "import seaborn as sns\n",
    "from sklearn.preprocessing import StandardScaler, MinMaxScaler\n",
    "from scipy.stats import chi2_contingency\n",
    "from sklearn.tree import DecisionTreeClassifier\n",
    "from sklearn.model_selection import train_test_split, GridSearchCV, KFold,RandomizedSearchCV\n",
    "from sklearn.metrics import (roc_auc_score, roc_curve, auc, confusion_matrix, \\\n",
    "                             accuracy_score, classification_report, plot_confusion_matrix, \\\n",
    "                             plot_precision_recall_curve, precision_recall_curve, recall_score,\n",
    "                             plot_roc_curve)\n",
    "from sklearn.linear_model import LogisticRegression\n",
    "from sklearn.neighbors import KNeighborsClassifier\n",
    "import xgboost as xgb, lightgbm as lgbm, catboost as catb\n"
   ]
  },
  {
   "cell_type": "markdown",
   "id": "98f55cb2",
   "metadata": {},
   "source": [
    "#### Пути до файлов с данными "
   ]
  },
  {
   "cell_type": "code",
   "execution_count": 2,
   "id": "a4b5eec3",
   "metadata": {},
   "outputs": [],
   "source": [
    "data_train_path = './data/course_project_train.csv'\n",
    "data_test_path = './data/course_project_test.csv'\n",
    "scaler_file = './data/scaler_model'\n",
    "MODEL_FILE_PATH = './data/final_model'\n",
    "pred_data = './data/pred_data.csv'\n"
   ]
  },
  {
   "cell_type": "markdown",
   "id": "b6e11c28",
   "metadata": {},
   "source": [
    "### Постановка задачи  \n",
    "> Требуется, на основании имеющихся данных о клиентах банка, построить модель, используя обучающий датасет, для прогнозирования невыполнения долговых обязательств по текущему кредиту. Выполнить прогноз для примеров из тестового датасета."
   ]
  },
  {
   "cell_type": "markdown",
   "id": "9bd6978c",
   "metadata": {},
   "source": [
    "### Описание датасета  \n",
    "\n",
    "\n",
    "* **Home Ownership** - домовладение\n",
    "* **Annual Income** - годовой доход\n",
    "* **Years in current job** - количество лет на текущем месте работы\n",
    "* **Tax Liens** - налоговые обременения\n",
    "* **Number of Open Accounts** - количество открытых счетов\n",
    "* **Years of Credit History** - количество лет кредитной истории\n",
    "* **Maximum Open Credit** - наибольший открытый кредит\n",
    "* **Number of Credit Problems** - количество проблем с кредитом\n",
    "* **Months since last delinquent** - количество месяцев с последней просрочки платежа\n",
    "* **Bankruptcies** - банкротства\n",
    "* **Purpose** - цель кредита\n",
    "* **Term** - срок кредита\n",
    "* **Current Loan Amount** - текущая сумма кредита\n",
    "* **Current Credit Balance** - текущий кредитный баланс\n",
    "* **Monthly Debt** - ежемесячный долг\n",
    "* **Credit Score** - баллы кредитного рейтинга\n",
    "* **Credit Default** - факт невыполнения кредитных обязательств (0 - погашен вовремя, 1 - просрочка)"
   ]
  },
  {
   "cell_type": "markdown",
   "id": "8e83507b",
   "metadata": {},
   "source": [
    "### Загрузка обучающего и тестового датасетов "
   ]
  },
  {
   "cell_type": "code",
   "execution_count": 3,
   "id": "b4b0fce3",
   "metadata": {},
   "outputs": [
    {
     "data": {
      "text/html": [
       "<div>\n",
       "<style scoped>\n",
       "    .dataframe tbody tr th:only-of-type {\n",
       "        vertical-align: middle;\n",
       "    }\n",
       "\n",
       "    .dataframe tbody tr th {\n",
       "        vertical-align: top;\n",
       "    }\n",
       "\n",
       "    .dataframe thead th {\n",
       "        text-align: right;\n",
       "    }\n",
       "</style>\n",
       "<table border=\"1\" class=\"dataframe\">\n",
       "  <thead>\n",
       "    <tr style=\"text-align: right;\">\n",
       "      <th></th>\n",
       "      <th>Home Ownership</th>\n",
       "      <th>Annual Income</th>\n",
       "      <th>Years in current job</th>\n",
       "      <th>Tax Liens</th>\n",
       "      <th>Number of Open Accounts</th>\n",
       "      <th>Years of Credit History</th>\n",
       "      <th>Maximum Open Credit</th>\n",
       "      <th>Number of Credit Problems</th>\n",
       "      <th>Months since last delinquent</th>\n",
       "      <th>Bankruptcies</th>\n",
       "      <th>Purpose</th>\n",
       "      <th>Term</th>\n",
       "      <th>Current Loan Amount</th>\n",
       "      <th>Current Credit Balance</th>\n",
       "      <th>Monthly Debt</th>\n",
       "      <th>Credit Score</th>\n",
       "      <th>Credit Default</th>\n",
       "    </tr>\n",
       "  </thead>\n",
       "  <tbody>\n",
       "    <tr>\n",
       "      <th>0</th>\n",
       "      <td>Own Home</td>\n",
       "      <td>482087.0</td>\n",
       "      <td>NaN</td>\n",
       "      <td>0.0</td>\n",
       "      <td>11.0</td>\n",
       "      <td>26.3</td>\n",
       "      <td>685960.0</td>\n",
       "      <td>1.0</td>\n",
       "      <td>NaN</td>\n",
       "      <td>1.0</td>\n",
       "      <td>debt consolidation</td>\n",
       "      <td>Short Term</td>\n",
       "      <td>99999999.0</td>\n",
       "      <td>47386.0</td>\n",
       "      <td>7914.0</td>\n",
       "      <td>749.0</td>\n",
       "      <td>0</td>\n",
       "    </tr>\n",
       "    <tr>\n",
       "      <th>1</th>\n",
       "      <td>Own Home</td>\n",
       "      <td>1025487.0</td>\n",
       "      <td>10+ years</td>\n",
       "      <td>0.0</td>\n",
       "      <td>15.0</td>\n",
       "      <td>15.3</td>\n",
       "      <td>1181730.0</td>\n",
       "      <td>0.0</td>\n",
       "      <td>NaN</td>\n",
       "      <td>0.0</td>\n",
       "      <td>debt consolidation</td>\n",
       "      <td>Long Term</td>\n",
       "      <td>264968.0</td>\n",
       "      <td>394972.0</td>\n",
       "      <td>18373.0</td>\n",
       "      <td>737.0</td>\n",
       "      <td>1</td>\n",
       "    </tr>\n",
       "    <tr>\n",
       "      <th>2</th>\n",
       "      <td>Home Mortgage</td>\n",
       "      <td>751412.0</td>\n",
       "      <td>8 years</td>\n",
       "      <td>0.0</td>\n",
       "      <td>11.0</td>\n",
       "      <td>35.0</td>\n",
       "      <td>1182434.0</td>\n",
       "      <td>0.0</td>\n",
       "      <td>NaN</td>\n",
       "      <td>0.0</td>\n",
       "      <td>debt consolidation</td>\n",
       "      <td>Short Term</td>\n",
       "      <td>99999999.0</td>\n",
       "      <td>308389.0</td>\n",
       "      <td>13651.0</td>\n",
       "      <td>742.0</td>\n",
       "      <td>0</td>\n",
       "    </tr>\n",
       "    <tr>\n",
       "      <th>3</th>\n",
       "      <td>Own Home</td>\n",
       "      <td>805068.0</td>\n",
       "      <td>6 years</td>\n",
       "      <td>0.0</td>\n",
       "      <td>8.0</td>\n",
       "      <td>22.5</td>\n",
       "      <td>147400.0</td>\n",
       "      <td>1.0</td>\n",
       "      <td>NaN</td>\n",
       "      <td>1.0</td>\n",
       "      <td>debt consolidation</td>\n",
       "      <td>Short Term</td>\n",
       "      <td>121396.0</td>\n",
       "      <td>95855.0</td>\n",
       "      <td>11338.0</td>\n",
       "      <td>694.0</td>\n",
       "      <td>0</td>\n",
       "    </tr>\n",
       "    <tr>\n",
       "      <th>4</th>\n",
       "      <td>Rent</td>\n",
       "      <td>776264.0</td>\n",
       "      <td>8 years</td>\n",
       "      <td>0.0</td>\n",
       "      <td>13.0</td>\n",
       "      <td>13.6</td>\n",
       "      <td>385836.0</td>\n",
       "      <td>1.0</td>\n",
       "      <td>NaN</td>\n",
       "      <td>0.0</td>\n",
       "      <td>debt consolidation</td>\n",
       "      <td>Short Term</td>\n",
       "      <td>125840.0</td>\n",
       "      <td>93309.0</td>\n",
       "      <td>7180.0</td>\n",
       "      <td>719.0</td>\n",
       "      <td>0</td>\n",
       "    </tr>\n",
       "  </tbody>\n",
       "</table>\n",
       "</div>"
      ],
      "text/plain": [
       "  Home Ownership  Annual Income Years in current job  Tax Liens  \\\n",
       "0       Own Home       482087.0                  NaN        0.0   \n",
       "1       Own Home      1025487.0            10+ years        0.0   \n",
       "2  Home Mortgage       751412.0              8 years        0.0   \n",
       "3       Own Home       805068.0              6 years        0.0   \n",
       "4           Rent       776264.0              8 years        0.0   \n",
       "\n",
       "   Number of Open Accounts  Years of Credit History  Maximum Open Credit  \\\n",
       "0                     11.0                     26.3             685960.0   \n",
       "1                     15.0                     15.3            1181730.0   \n",
       "2                     11.0                     35.0            1182434.0   \n",
       "3                      8.0                     22.5             147400.0   \n",
       "4                     13.0                     13.6             385836.0   \n",
       "\n",
       "   Number of Credit Problems  Months since last delinquent  Bankruptcies  \\\n",
       "0                        1.0                           NaN           1.0   \n",
       "1                        0.0                           NaN           0.0   \n",
       "2                        0.0                           NaN           0.0   \n",
       "3                        1.0                           NaN           1.0   \n",
       "4                        1.0                           NaN           0.0   \n",
       "\n",
       "              Purpose        Term  Current Loan Amount  \\\n",
       "0  debt consolidation  Short Term           99999999.0   \n",
       "1  debt consolidation   Long Term             264968.0   \n",
       "2  debt consolidation  Short Term           99999999.0   \n",
       "3  debt consolidation  Short Term             121396.0   \n",
       "4  debt consolidation  Short Term             125840.0   \n",
       "\n",
       "   Current Credit Balance  Monthly Debt  Credit Score  Credit Default  \n",
       "0                 47386.0        7914.0         749.0               0  \n",
       "1                394972.0       18373.0         737.0               1  \n",
       "2                308389.0       13651.0         742.0               0  \n",
       "3                 95855.0       11338.0         694.0               0  \n",
       "4                 93309.0        7180.0         719.0               0  "
      ]
     },
     "execution_count": 3,
     "metadata": {},
     "output_type": "execute_result"
    }
   ],
   "source": [
    "df_base= pd.read_csv(data_train_path)\n",
    "df_test= pd.read_csv(data_test_path)\n",
    "df_base.head(5)\n"
   ]
  },
  {
   "cell_type": "markdown",
   "id": "b9a53ede",
   "metadata": {},
   "source": [
    "### Общая информация по датасету"
   ]
  },
  {
   "cell_type": "code",
   "execution_count": 4,
   "id": "357008ef",
   "metadata": {},
   "outputs": [
    {
     "name": "stdout",
     "output_type": "stream",
     "text": [
      "(7500, 17)\n",
      "(2500, 16)\n"
     ]
    }
   ],
   "source": [
    "print(df_base.shape)\n",
    "print(df_test.shape)"
   ]
  },
  {
   "cell_type": "code",
   "execution_count": 5,
   "id": "d8cddd00",
   "metadata": {},
   "outputs": [],
   "source": [
    "target_name = 'Credit Default'\n",
    "feature_names = df_base.columns.drop('Credit Default').to_list()"
   ]
  },
  {
   "cell_type": "code",
   "execution_count": 6,
   "id": "b87dd8a0",
   "metadata": {},
   "outputs": [
    {
     "data": {
      "text/plain": [
       "Home Ownership                   object\n",
       "Annual Income                   float64\n",
       "Years in current job             object\n",
       "Tax Liens                       float64\n",
       "Number of Open Accounts         float64\n",
       "Years of Credit History         float64\n",
       "Maximum Open Credit             float64\n",
       "Number of Credit Problems       float64\n",
       "Months since last delinquent    float64\n",
       "Bankruptcies                    float64\n",
       "Purpose                          object\n",
       "Term                             object\n",
       "Current Loan Amount             float64\n",
       "Current Credit Balance          float64\n",
       "Monthly Debt                    float64\n",
       "Credit Score                    float64\n",
       "Credit Default                    int64\n",
       "dtype: object"
      ]
     },
     "execution_count": 6,
     "metadata": {},
     "output_type": "execute_result"
    }
   ],
   "source": [
    "df_base.dtypes"
   ]
  },
  {
   "cell_type": "code",
   "execution_count": 7,
   "id": "0e3f016e",
   "metadata": {},
   "outputs": [
    {
     "data": {
      "text/html": [
       "<div>\n",
       "<style scoped>\n",
       "    .dataframe tbody tr th:only-of-type {\n",
       "        vertical-align: middle;\n",
       "    }\n",
       "\n",
       "    .dataframe tbody tr th {\n",
       "        vertical-align: top;\n",
       "    }\n",
       "\n",
       "    .dataframe thead th {\n",
       "        text-align: right;\n",
       "    }\n",
       "</style>\n",
       "<table border=\"1\" class=\"dataframe\">\n",
       "  <thead>\n",
       "    <tr style=\"text-align: right;\">\n",
       "      <th></th>\n",
       "      <th>Annual Income</th>\n",
       "      <th>Tax Liens</th>\n",
       "      <th>Number of Open Accounts</th>\n",
       "      <th>Years of Credit History</th>\n",
       "      <th>Maximum Open Credit</th>\n",
       "      <th>Number of Credit Problems</th>\n",
       "      <th>Months since last delinquent</th>\n",
       "      <th>Bankruptcies</th>\n",
       "      <th>Current Loan Amount</th>\n",
       "      <th>Current Credit Balance</th>\n",
       "      <th>Monthly Debt</th>\n",
       "      <th>Credit Score</th>\n",
       "      <th>Credit Default</th>\n",
       "    </tr>\n",
       "  </thead>\n",
       "  <tbody>\n",
       "    <tr>\n",
       "      <th>count</th>\n",
       "      <td>5.943000e+03</td>\n",
       "      <td>7500.000000</td>\n",
       "      <td>7500.000000</td>\n",
       "      <td>7500.000000</td>\n",
       "      <td>7.500000e+03</td>\n",
       "      <td>7500.000000</td>\n",
       "      <td>3419.000000</td>\n",
       "      <td>7486.000000</td>\n",
       "      <td>7.500000e+03</td>\n",
       "      <td>7.500000e+03</td>\n",
       "      <td>7500.000000</td>\n",
       "      <td>5943.000000</td>\n",
       "      <td>7500.000000</td>\n",
       "    </tr>\n",
       "    <tr>\n",
       "      <th>mean</th>\n",
       "      <td>1.366392e+06</td>\n",
       "      <td>0.030133</td>\n",
       "      <td>11.130933</td>\n",
       "      <td>18.317467</td>\n",
       "      <td>9.451537e+05</td>\n",
       "      <td>0.170000</td>\n",
       "      <td>34.692600</td>\n",
       "      <td>0.117152</td>\n",
       "      <td>1.187318e+07</td>\n",
       "      <td>2.898332e+05</td>\n",
       "      <td>18314.454133</td>\n",
       "      <td>1151.087498</td>\n",
       "      <td>0.281733</td>\n",
       "    </tr>\n",
       "    <tr>\n",
       "      <th>std</th>\n",
       "      <td>8.453392e+05</td>\n",
       "      <td>0.271604</td>\n",
       "      <td>4.908924</td>\n",
       "      <td>7.041946</td>\n",
       "      <td>1.602622e+07</td>\n",
       "      <td>0.498598</td>\n",
       "      <td>21.688806</td>\n",
       "      <td>0.347192</td>\n",
       "      <td>3.192612e+07</td>\n",
       "      <td>3.178714e+05</td>\n",
       "      <td>11926.764673</td>\n",
       "      <td>1604.451418</td>\n",
       "      <td>0.449874</td>\n",
       "    </tr>\n",
       "    <tr>\n",
       "      <th>min</th>\n",
       "      <td>1.645970e+05</td>\n",
       "      <td>0.000000</td>\n",
       "      <td>2.000000</td>\n",
       "      <td>4.000000</td>\n",
       "      <td>0.000000e+00</td>\n",
       "      <td>0.000000</td>\n",
       "      <td>0.000000</td>\n",
       "      <td>0.000000</td>\n",
       "      <td>1.124200e+04</td>\n",
       "      <td>0.000000e+00</td>\n",
       "      <td>0.000000</td>\n",
       "      <td>585.000000</td>\n",
       "      <td>0.000000</td>\n",
       "    </tr>\n",
       "    <tr>\n",
       "      <th>25%</th>\n",
       "      <td>8.443410e+05</td>\n",
       "      <td>0.000000</td>\n",
       "      <td>8.000000</td>\n",
       "      <td>13.500000</td>\n",
       "      <td>2.792295e+05</td>\n",
       "      <td>0.000000</td>\n",
       "      <td>16.000000</td>\n",
       "      <td>0.000000</td>\n",
       "      <td>1.801690e+05</td>\n",
       "      <td>1.142565e+05</td>\n",
       "      <td>10067.500000</td>\n",
       "      <td>711.000000</td>\n",
       "      <td>0.000000</td>\n",
       "    </tr>\n",
       "    <tr>\n",
       "      <th>50%</th>\n",
       "      <td>1.168386e+06</td>\n",
       "      <td>0.000000</td>\n",
       "      <td>10.000000</td>\n",
       "      <td>17.000000</td>\n",
       "      <td>4.781590e+05</td>\n",
       "      <td>0.000000</td>\n",
       "      <td>32.000000</td>\n",
       "      <td>0.000000</td>\n",
       "      <td>3.095730e+05</td>\n",
       "      <td>2.093230e+05</td>\n",
       "      <td>16076.500000</td>\n",
       "      <td>731.000000</td>\n",
       "      <td>0.000000</td>\n",
       "    </tr>\n",
       "    <tr>\n",
       "      <th>75%</th>\n",
       "      <td>1.640137e+06</td>\n",
       "      <td>0.000000</td>\n",
       "      <td>14.000000</td>\n",
       "      <td>21.800000</td>\n",
       "      <td>7.935015e+05</td>\n",
       "      <td>0.000000</td>\n",
       "      <td>50.000000</td>\n",
       "      <td>0.000000</td>\n",
       "      <td>5.198820e+05</td>\n",
       "      <td>3.604062e+05</td>\n",
       "      <td>23818.000000</td>\n",
       "      <td>743.000000</td>\n",
       "      <td>1.000000</td>\n",
       "    </tr>\n",
       "    <tr>\n",
       "      <th>max</th>\n",
       "      <td>1.014934e+07</td>\n",
       "      <td>7.000000</td>\n",
       "      <td>43.000000</td>\n",
       "      <td>57.700000</td>\n",
       "      <td>1.304726e+09</td>\n",
       "      <td>7.000000</td>\n",
       "      <td>118.000000</td>\n",
       "      <td>4.000000</td>\n",
       "      <td>1.000000e+08</td>\n",
       "      <td>6.506797e+06</td>\n",
       "      <td>136679.000000</td>\n",
       "      <td>7510.000000</td>\n",
       "      <td>1.000000</td>\n",
       "    </tr>\n",
       "  </tbody>\n",
       "</table>\n",
       "</div>"
      ],
      "text/plain": [
       "       Annual Income    Tax Liens  Number of Open Accounts  \\\n",
       "count   5.943000e+03  7500.000000              7500.000000   \n",
       "mean    1.366392e+06     0.030133                11.130933   \n",
       "std     8.453392e+05     0.271604                 4.908924   \n",
       "min     1.645970e+05     0.000000                 2.000000   \n",
       "25%     8.443410e+05     0.000000                 8.000000   \n",
       "50%     1.168386e+06     0.000000                10.000000   \n",
       "75%     1.640137e+06     0.000000                14.000000   \n",
       "max     1.014934e+07     7.000000                43.000000   \n",
       "\n",
       "       Years of Credit History  Maximum Open Credit  \\\n",
       "count              7500.000000         7.500000e+03   \n",
       "mean                 18.317467         9.451537e+05   \n",
       "std                   7.041946         1.602622e+07   \n",
       "min                   4.000000         0.000000e+00   \n",
       "25%                  13.500000         2.792295e+05   \n",
       "50%                  17.000000         4.781590e+05   \n",
       "75%                  21.800000         7.935015e+05   \n",
       "max                  57.700000         1.304726e+09   \n",
       "\n",
       "       Number of Credit Problems  Months since last delinquent  Bankruptcies  \\\n",
       "count                7500.000000                   3419.000000   7486.000000   \n",
       "mean                    0.170000                     34.692600      0.117152   \n",
       "std                     0.498598                     21.688806      0.347192   \n",
       "min                     0.000000                      0.000000      0.000000   \n",
       "25%                     0.000000                     16.000000      0.000000   \n",
       "50%                     0.000000                     32.000000      0.000000   \n",
       "75%                     0.000000                     50.000000      0.000000   \n",
       "max                     7.000000                    118.000000      4.000000   \n",
       "\n",
       "       Current Loan Amount  Current Credit Balance   Monthly Debt  \\\n",
       "count         7.500000e+03            7.500000e+03    7500.000000   \n",
       "mean          1.187318e+07            2.898332e+05   18314.454133   \n",
       "std           3.192612e+07            3.178714e+05   11926.764673   \n",
       "min           1.124200e+04            0.000000e+00       0.000000   \n",
       "25%           1.801690e+05            1.142565e+05   10067.500000   \n",
       "50%           3.095730e+05            2.093230e+05   16076.500000   \n",
       "75%           5.198820e+05            3.604062e+05   23818.000000   \n",
       "max           1.000000e+08            6.506797e+06  136679.000000   \n",
       "\n",
       "       Credit Score  Credit Default  \n",
       "count   5943.000000     7500.000000  \n",
       "mean    1151.087498        0.281733  \n",
       "std     1604.451418        0.449874  \n",
       "min      585.000000        0.000000  \n",
       "25%      711.000000        0.000000  \n",
       "50%      731.000000        0.000000  \n",
       "75%      743.000000        1.000000  \n",
       "max     7510.000000        1.000000  "
      ]
     },
     "execution_count": 7,
     "metadata": {},
     "output_type": "execute_result"
    }
   ],
   "source": [
    "df_base.describe()"
   ]
  },
  {
   "cell_type": "code",
   "execution_count": null,
   "id": "6e1a69af",
   "metadata": {},
   "outputs": [],
   "source": []
  },
  {
   "cell_type": "markdown",
   "id": "13cf6590",
   "metadata": {},
   "source": [
    "Обучающий и тестовы дайтасеты содержат одинаковые наборы признаков.  ***Credit Default*** - целевая переменная обучающего дататасета.  \n",
    "12 количественных признаков и 4 номинантных.  \n"
   ]
  },
  {
   "cell_type": "markdown",
   "id": "04eca33d",
   "metadata": {},
   "source": [
    "### Обработка пропусков и выбросов\n"
   ]
  },
  {
   "cell_type": "code",
   "execution_count": 8,
   "id": "16a48707",
   "metadata": {},
   "outputs": [
    {
     "data": {
      "text/plain": [
       "Home Ownership                     0\n",
       "Annual Income                   1557\n",
       "Years in current job             371\n",
       "Tax Liens                          0\n",
       "Number of Open Accounts            0\n",
       "Years of Credit History            0\n",
       "Maximum Open Credit                0\n",
       "Number of Credit Problems          0\n",
       "Months since last delinquent    4081\n",
       "Bankruptcies                      14\n",
       "Purpose                            0\n",
       "Term                               0\n",
       "Current Loan Amount                0\n",
       "Current Credit Balance             0\n",
       "Monthly Debt                       0\n",
       "Credit Score                    1557\n",
       "Credit Default                     0\n",
       "dtype: int64"
      ]
     },
     "execution_count": 8,
     "metadata": {},
     "output_type": "execute_result"
    }
   ],
   "source": [
    "df_base.isna().sum()"
   ]
  },
  {
   "cell_type": "markdown",
   "id": "474bb1b7",
   "metadata": {},
   "source": [
    "Большое значение пропусков в Months since last delinquent можно объяснить  отсутствием просрочек с погашением платежа. Поэтому заменяем соответсвующие позиции на нулевые значения.  \n",
    "Credit Default,  Annual Income, Years in current job и Bankruptcie свидетельствуют о не полноте информации. Credit Default,  Annual Income,  и Bankruptcie заменяем своими медианными значениями, а Years in current job - своей модой.  \n",
    "Значение 1E8 в Current Loan Amount по всей видимсости является выбросом и будет заменен на медианное значение.\n"
   ]
  },
  {
   "cell_type": "code",
   "execution_count": 9,
   "id": "0f682389",
   "metadata": {},
   "outputs": [],
   "source": [
    "df_base.loc[df_base.isna()['Years in current job'], 'Years in current job'] = df_base['Years in current job'].mode()[0]\n",
    "df_base.loc[df_base.isna()['Annual Income'], 'Annual Income'] = df_base['Annual Income'].median()\n",
    "df_base.loc[df_base.isna()['Credit Score'], 'Credit Score'] = df_base['Credit Score'].median()\n",
    "df_base.loc[df_base.isna()['Bankruptcies'], 'Bankruptcies'] = df_base['Bankruptcies'].median()\n",
    "df_base.loc[df_base.isna()['Months since last delinquent'], 'Months since last delinquent'] = 0\n",
    "df_base.loc[df_base['Current Loan Amount']==df_base['Current Loan Amount'].max(), 'Current Loan Amount'] = df_base['Current Loan Amount'].median()"
   ]
  },
  {
   "cell_type": "markdown",
   "id": "c9f66cde",
   "metadata": {},
   "source": [
    "Удалим повторяющиеся строки"
   ]
  },
  {
   "cell_type": "code",
   "execution_count": 10,
   "id": "e2d654fe",
   "metadata": {},
   "outputs": [],
   "source": [
    "df_base.drop_duplicates(inplace=True)"
   ]
  },
  {
   "cell_type": "markdown",
   "id": "9555bd84",
   "metadata": {},
   "source": [
    "### Отбор признаков"
   ]
  },
  {
   "cell_type": "code",
   "execution_count": 11,
   "id": "55cea898",
   "metadata": {},
   "outputs": [],
   "source": [
    "target_name = 'Credit Default'\n",
    "feature_names = df_base.columns.drop('Credit Default').to_list()"
   ]
  },
  {
   "cell_type": "markdown",
   "id": "f3c69422",
   "metadata": {},
   "source": [
    "#### Номинативные прзнаки.  \n",
    "* **Home Ownership** - домовладение\n",
    "* **Years in current job** - количество лет на текущем месте работы\n",
    "* **Purpose** - цель кредита\n",
    "* **Term** - срок кредита  \n",
    "Для этих данных имеет смысл преобразование к строковому типу. "
   ]
  },
  {
   "cell_type": "code",
   "execution_count": 12,
   "id": "c645cab5",
   "metadata": {},
   "outputs": [
    {
     "data": {
      "text/html": [
       "<div>\n",
       "<style scoped>\n",
       "    .dataframe tbody tr th:only-of-type {\n",
       "        vertical-align: middle;\n",
       "    }\n",
       "\n",
       "    .dataframe tbody tr th {\n",
       "        vertical-align: top;\n",
       "    }\n",
       "\n",
       "    .dataframe thead th {\n",
       "        text-align: right;\n",
       "    }\n",
       "</style>\n",
       "<table border=\"1\" class=\"dataframe\">\n",
       "  <thead>\n",
       "    <tr style=\"text-align: right;\">\n",
       "      <th></th>\n",
       "      <th>Home Ownership</th>\n",
       "      <th>Years in current job</th>\n",
       "      <th>Purpose</th>\n",
       "      <th>Term</th>\n",
       "    </tr>\n",
       "  </thead>\n",
       "  <tbody>\n",
       "    <tr>\n",
       "      <th>0</th>\n",
       "      <td>Own Home</td>\n",
       "      <td>10+ years</td>\n",
       "      <td>debt consolidation</td>\n",
       "      <td>Short Term</td>\n",
       "    </tr>\n",
       "    <tr>\n",
       "      <th>1</th>\n",
       "      <td>Own Home</td>\n",
       "      <td>10+ years</td>\n",
       "      <td>debt consolidation</td>\n",
       "      <td>Long Term</td>\n",
       "    </tr>\n",
       "    <tr>\n",
       "      <th>2</th>\n",
       "      <td>Home Mortgage</td>\n",
       "      <td>8 years</td>\n",
       "      <td>debt consolidation</td>\n",
       "      <td>Short Term</td>\n",
       "    </tr>\n",
       "    <tr>\n",
       "      <th>3</th>\n",
       "      <td>Own Home</td>\n",
       "      <td>6 years</td>\n",
       "      <td>debt consolidation</td>\n",
       "      <td>Short Term</td>\n",
       "    </tr>\n",
       "    <tr>\n",
       "      <th>4</th>\n",
       "      <td>Rent</td>\n",
       "      <td>8 years</td>\n",
       "      <td>debt consolidation</td>\n",
       "      <td>Short Term</td>\n",
       "    </tr>\n",
       "    <tr>\n",
       "      <th>...</th>\n",
       "      <td>...</td>\n",
       "      <td>...</td>\n",
       "      <td>...</td>\n",
       "      <td>...</td>\n",
       "    </tr>\n",
       "    <tr>\n",
       "      <th>7495</th>\n",
       "      <td>Rent</td>\n",
       "      <td>&lt; 1 year</td>\n",
       "      <td>other</td>\n",
       "      <td>Short Term</td>\n",
       "    </tr>\n",
       "    <tr>\n",
       "      <th>7496</th>\n",
       "      <td>Home Mortgage</td>\n",
       "      <td>1 year</td>\n",
       "      <td>debt consolidation</td>\n",
       "      <td>Long Term</td>\n",
       "    </tr>\n",
       "    <tr>\n",
       "      <th>7497</th>\n",
       "      <td>Rent</td>\n",
       "      <td>6 years</td>\n",
       "      <td>buy a car</td>\n",
       "      <td>Short Term</td>\n",
       "    </tr>\n",
       "    <tr>\n",
       "      <th>7498</th>\n",
       "      <td>Home Mortgage</td>\n",
       "      <td>10+ years</td>\n",
       "      <td>debt consolidation</td>\n",
       "      <td>Short Term</td>\n",
       "    </tr>\n",
       "    <tr>\n",
       "      <th>7499</th>\n",
       "      <td>Rent</td>\n",
       "      <td>4 years</td>\n",
       "      <td>debt consolidation</td>\n",
       "      <td>Short Term</td>\n",
       "    </tr>\n",
       "  </tbody>\n",
       "</table>\n",
       "<p>7500 rows × 4 columns</p>\n",
       "</div>"
      ],
      "text/plain": [
       "     Home Ownership Years in current job             Purpose        Term\n",
       "0          Own Home            10+ years  debt consolidation  Short Term\n",
       "1          Own Home            10+ years  debt consolidation   Long Term\n",
       "2     Home Mortgage              8 years  debt consolidation  Short Term\n",
       "3          Own Home              6 years  debt consolidation  Short Term\n",
       "4              Rent              8 years  debt consolidation  Short Term\n",
       "...             ...                  ...                 ...         ...\n",
       "7495           Rent             < 1 year               other  Short Term\n",
       "7496  Home Mortgage               1 year  debt consolidation   Long Term\n",
       "7497           Rent              6 years           buy a car  Short Term\n",
       "7498  Home Mortgage            10+ years  debt consolidation  Short Term\n",
       "7499           Rent              4 years  debt consolidation  Short Term\n",
       "\n",
       "[7500 rows x 4 columns]"
      ]
     },
     "execution_count": 12,
     "metadata": {},
     "output_type": "execute_result"
    }
   ],
   "source": [
    "CAT_FEATURES_NAMES = ['Home Ownership','Years in current job','Purpose', 'Term' ]\n",
    "df_base[CAT_FEATURES_NAMES].astype(str)"
   ]
  },
  {
   "cell_type": "markdown",
   "id": "c16931ed",
   "metadata": {},
   "source": [
    "#### 12 количественных признаков."
   ]
  },
  {
   "cell_type": "code",
   "execution_count": 13,
   "id": "50a25186",
   "metadata": {},
   "outputs": [
    {
     "name": "stdout",
     "output_type": "stream",
     "text": [
      "['Annual Income', 'Tax Liens', 'Number of Open Accounts', 'Years of Credit History', 'Maximum Open Credit', 'Number of Credit Problems', 'Months since last delinquent', 'Bankruptcies', 'Current Loan Amount', 'Current Credit Balance', 'Monthly Debt', 'Credit Score']\n"
     ]
    }
   ],
   "source": [
    "NUM_FEATURES_NAMES = df_base[feature_names].columns.drop(CAT_FEATURES_NAMES).to_list()\n",
    "print(NUM_FEATURES_NAMES)"
   ]
  },
  {
   "cell_type": "markdown",
   "id": "cf17f4a5",
   "metadata": {},
   "source": []
  },
  {
   "cell_type": "markdown",
   "id": "5c03f98c",
   "metadata": {},
   "source": [
    "### Анализ целевой переменной"
   ]
  },
  {
   "cell_type": "code",
   "execution_count": 14,
   "id": "e0d63959",
   "metadata": {},
   "outputs": [
    {
     "data": {
      "text/plain": [
       "0    5387\n",
       "1    2113\n",
       "Name: Credit Default, dtype: int64"
      ]
     },
     "execution_count": 14,
     "metadata": {},
     "output_type": "execute_result"
    }
   ],
   "source": [
    "df_base[target_name].value_counts()"
   ]
  },
  {
   "cell_type": "markdown",
   "id": "5a37bc6d",
   "metadata": {},
   "source": [
    "5387 человек погасили кредит, а 2113 нет. Имеется  разбалансировка классов. "
   ]
  },
  {
   "cell_type": "code",
   "execution_count": 15,
   "id": "717af70c",
   "metadata": {},
   "outputs": [
    {
     "data": {
      "image/png": "[encoded data removed]",
      "text/plain": [
       "<Figure size 800x500 with 1 Axes>"
      ]
     },
     "metadata": {},
     "output_type": "display_data"
    }
   ],
   "source": [
    "plt.figure(figsize=(8, 5))\n",
    "\n",
    "sns.countplot(x=target_name, data=df_base)\n",
    "\n",
    "plt.title('Target variable distribution')\n",
    "plt.show()"
   ]
  },
  {
   "cell_type": "markdown",
   "id": "343be29d",
   "metadata": {},
   "source": [
    "\n",
    "\n",
    "\n",
    "\n",
    "\n",
    "\n",
    "\n",
    "\n",
    "\n",
    "\n",
    "\n",
    "\n",
    "#### Корреляция с базовыми прзнаками"
   ]
  },
  {
   "cell_type": "code",
   "execution_count": 16,
   "id": "b2e01aff",
   "metadata": {},
   "outputs": [],
   "source": [
    "korr_with_features = df_base[feature_names + [target_name]].corr().iloc[:-1,-1].sort_values(ascending = False)"
   ]
  },
  {
   "cell_type": "code",
   "execution_count": 17,
   "id": "828d4983",
   "metadata": {},
   "outputs": [
    {
     "name": "stderr",
     "output_type": "stream",
     "text": [
      "/home/andrey/anaconda3/lib/python3.9/site-packages/seaborn/_decorators.py:36: FutureWarning: Pass the following variables as keyword args: x, y. From version 0.12, the only valid positional argument will be `data`, and passing other arguments without an explicit keyword will result in an error or misinterpretation.\n",
      "  warnings.warn(\n"
     ]
    },
    {
     "data": {
      "image/png": "[encoded data removed]",
      "text/plain": [
       "<Figure size 800x400 with 1 Axes>"
      ]
     },
     "metadata": {},
     "output_type": "display_data"
    }
   ],
   "source": [
    "plt.figure(figsize=(8,4))\n",
    "sns.barplot(korr_with_features.values, korr_with_features.index)\n",
    "plt.title('Correlation with target variable')\n",
    "plt.show()"
   ]
  },
  {
   "cell_type": "markdown",
   "id": "d2450bde",
   "metadata": {},
   "source": [
    "**Наблюдается достаточно сильная линецйная зависимость между Credit Score и целевой переменной. Раассмоттрим, как соотносятся признаки с целевой переменной.**"
   ]
  },
  {
   "cell_type": "code",
   "execution_count": null,
   "id": "6ea51430",
   "metadata": {},
   "outputs": [],
   "source": []
  },
  {
   "cell_type": "code",
   "execution_count": 18,
   "id": "5d220c83",
   "metadata": {},
   "outputs": [
    {
     "data": {
      "image/png": "[encoded data removed]",
      "text/plain": [
       "<Figure size 1500x400 with 2 Axes>"
      ]
     },
     "metadata": {},
     "output_type": "display_data"
    },
    {
     "data": {
      "image/png": "[encoded data removed]",
      "text/plain": [
       "<Figure size 1500x400 with 1 Axes>"
      ]
     },
     "metadata": {},
     "output_type": "display_data"
    }
   ],
   "source": [
    "plt.figure(figsize=(15,4))\n",
    "plt.subplot(121)\n",
    "\n",
    "sns.countplot(x='Home Ownership',  hue=target_name, data=df_base)\n",
    "plt.title('Home Ownershipd by target variable')\n",
    "plt.legend(title='Target', loc='upper right')\n",
    "\n",
    "plt.subplot(122)\n",
    "\n",
    "sns.countplot(x='Years in current job',  hue=target_name, data=df_base)\n",
    "plt.title('Years in current job by target variable')\n",
    "plt.legend(title='Target', loc='upper right')\n",
    "plt.show()\n",
    "\n",
    "plt.figure(figsize=(15,4))\n",
    "plt.subplot(121)\n",
    "\n",
    "\n",
    "\n",
    "sns.countplot(x='Term',  hue=target_name, data=df_base)\n",
    "plt.title('Term by target variable')\n",
    "plt.legend(title='Target', loc='upper right')\n",
    "plt.show()"
   ]
  },
  {
   "cell_type": "markdown",
   "id": "8ba946e8",
   "metadata": {},
   "source": [
    "Видно, что в разрезе целевой  переменной Target значения  Years in current job имеют одинаковое распределение. Если это так, то их можно объединить в одну категорию. Проверим эту версию.  \n",
    "\n",
    "**Гипотеза** \n",
    "* Нулевая гипотеза: ожидаемые и наблюдаемые частоты согласованы\n",
    "* Альтернативная гипотеза: отклонения в частотах выходят за рамки случайных колебаний, расхождения статистически значимы\n",
    "* Критерий: Хи-квадрат Пирсона\n",
    "* Уровень значимости $\\normalsize \\alpha$: 0.05\n",
    "* Критическая область: двухсторонняя"
   ]
  },
  {
   "cell_type": "markdown",
   "id": "5a9345ea",
   "metadata": {},
   "source": [
    "Функция ***getCategoryPirson*** проверяет по критерию Пирсона в разрезе целевой переменной  значения Years in current job. "
   ]
  },
  {
   "cell_type": "code",
   "execution_count": 19,
   "id": "2598b01c",
   "metadata": {},
   "outputs": [],
   "source": [
    "def getCategoryPirson(df_base,categor,listSign):\n",
    "    outPirson = []\n",
    "    for ind in range(1,len(listSign)):\n",
    "        YearsInCurrentJob_target  = df_base.loc[df_base[categor].isin([listSign[0],listSign[ind]]),[categor,target_name]]\n",
    "        YearsInCurrentJob_target.loc[:,\"ID\"] =  range(0,YearsInCurrentJob_target.shape[0])\n",
    "        #print(YearsInCurrentJob_target)\n",
    "        table = YearsInCurrentJob_target.pivot_table(values=\"ID\", index=categor, columns=target_name,aggfunc='count')\n",
    "        chi2, p, dof, expected = chi2_contingency(table, correction=False)\n",
    "        outPirson.append(p)\n",
    "    return outPirson\n",
    "        \n",
    "        "
   ]
  },
  {
   "cell_type": "code",
   "execution_count": 20,
   "id": "05379fed",
   "metadata": {},
   "outputs": [
    {
     "name": "stdout",
     "output_type": "stream",
     "text": [
      "[0.5006792539687488, 0.9278024493031297, 0.7229927702903716, 0.7153581004379619, 0.7433533661741736, 0.7558137032240556, 0.6708837607462488, 0.4637977656525255, 0.42691832656473505, 0.19621866915193914]\n"
     ]
    }
   ],
   "source": [
    "listSign =df_base['Years in current job'].unique()\n",
    "print(getCategoryPirson(df_base, 'Years in current job',listSign))"
   ]
  },
  {
   "cell_type": "markdown",
   "id": "a7e4a78b",
   "metadata": {},
   "source": [
    "В соответствии с критерием Пирсона ни для одной пары нулевую гипотезу отвергнуть нельзя. Значит все категории можно объединить в одну и данный признак неинформативен.\n"
   ]
  },
  {
   "cell_type": "code",
   "execution_count": 21,
   "id": "79817d0a",
   "metadata": {},
   "outputs": [],
   "source": [
    "df_base.drop('Years in current job', axis=1, inplace=True)\n"
   ]
  },
  {
   "cell_type": "code",
   "execution_count": 22,
   "id": "fbec700b",
   "metadata": {},
   "outputs": [
    {
     "data": {
      "text/html": [
       "<div>\n",
       "<style scoped>\n",
       "    .dataframe tbody tr th:only-of-type {\n",
       "        vertical-align: middle;\n",
       "    }\n",
       "\n",
       "    .dataframe tbody tr th {\n",
       "        vertical-align: top;\n",
       "    }\n",
       "\n",
       "    .dataframe thead th {\n",
       "        text-align: right;\n",
       "    }\n",
       "</style>\n",
       "<table border=\"1\" class=\"dataframe\">\n",
       "  <thead>\n",
       "    <tr style=\"text-align: right;\">\n",
       "      <th></th>\n",
       "      <th>Home Ownership</th>\n",
       "      <th>Annual Income</th>\n",
       "      <th>Tax Liens</th>\n",
       "      <th>Number of Open Accounts</th>\n",
       "      <th>Years of Credit History</th>\n",
       "      <th>Maximum Open Credit</th>\n",
       "      <th>Number of Credit Problems</th>\n",
       "      <th>Months since last delinquent</th>\n",
       "      <th>Bankruptcies</th>\n",
       "      <th>Purpose</th>\n",
       "      <th>Term</th>\n",
       "      <th>Current Loan Amount</th>\n",
       "      <th>Current Credit Balance</th>\n",
       "      <th>Monthly Debt</th>\n",
       "      <th>Credit Score</th>\n",
       "      <th>Credit Default</th>\n",
       "    </tr>\n",
       "  </thead>\n",
       "  <tbody>\n",
       "    <tr>\n",
       "      <th>0</th>\n",
       "      <td>Own Home</td>\n",
       "      <td>482087.0</td>\n",
       "      <td>0.0</td>\n",
       "      <td>11.0</td>\n",
       "      <td>26.3</td>\n",
       "      <td>685960.0</td>\n",
       "      <td>1.0</td>\n",
       "      <td>0.0</td>\n",
       "      <td>1.0</td>\n",
       "      <td>debt consolidation</td>\n",
       "      <td>Short Term</td>\n",
       "      <td>309573.0</td>\n",
       "      <td>47386.0</td>\n",
       "      <td>7914.0</td>\n",
       "      <td>749.0</td>\n",
       "      <td>0</td>\n",
       "    </tr>\n",
       "    <tr>\n",
       "      <th>1</th>\n",
       "      <td>Own Home</td>\n",
       "      <td>1025487.0</td>\n",
       "      <td>0.0</td>\n",
       "      <td>15.0</td>\n",
       "      <td>15.3</td>\n",
       "      <td>1181730.0</td>\n",
       "      <td>0.0</td>\n",
       "      <td>0.0</td>\n",
       "      <td>0.0</td>\n",
       "      <td>debt consolidation</td>\n",
       "      <td>Long Term</td>\n",
       "      <td>264968.0</td>\n",
       "      <td>394972.0</td>\n",
       "      <td>18373.0</td>\n",
       "      <td>737.0</td>\n",
       "      <td>1</td>\n",
       "    </tr>\n",
       "    <tr>\n",
       "      <th>2</th>\n",
       "      <td>Home Mortgage</td>\n",
       "      <td>751412.0</td>\n",
       "      <td>0.0</td>\n",
       "      <td>11.0</td>\n",
       "      <td>35.0</td>\n",
       "      <td>1182434.0</td>\n",
       "      <td>0.0</td>\n",
       "      <td>0.0</td>\n",
       "      <td>0.0</td>\n",
       "      <td>debt consolidation</td>\n",
       "      <td>Short Term</td>\n",
       "      <td>309573.0</td>\n",
       "      <td>308389.0</td>\n",
       "      <td>13651.0</td>\n",
       "      <td>742.0</td>\n",
       "      <td>0</td>\n",
       "    </tr>\n",
       "    <tr>\n",
       "      <th>3</th>\n",
       "      <td>Own Home</td>\n",
       "      <td>805068.0</td>\n",
       "      <td>0.0</td>\n",
       "      <td>8.0</td>\n",
       "      <td>22.5</td>\n",
       "      <td>147400.0</td>\n",
       "      <td>1.0</td>\n",
       "      <td>0.0</td>\n",
       "      <td>1.0</td>\n",
       "      <td>debt consolidation</td>\n",
       "      <td>Short Term</td>\n",
       "      <td>121396.0</td>\n",
       "      <td>95855.0</td>\n",
       "      <td>11338.0</td>\n",
       "      <td>694.0</td>\n",
       "      <td>0</td>\n",
       "    </tr>\n",
       "    <tr>\n",
       "      <th>4</th>\n",
       "      <td>Rent</td>\n",
       "      <td>776264.0</td>\n",
       "      <td>0.0</td>\n",
       "      <td>13.0</td>\n",
       "      <td>13.6</td>\n",
       "      <td>385836.0</td>\n",
       "      <td>1.0</td>\n",
       "      <td>0.0</td>\n",
       "      <td>0.0</td>\n",
       "      <td>debt consolidation</td>\n",
       "      <td>Short Term</td>\n",
       "      <td>125840.0</td>\n",
       "      <td>93309.0</td>\n",
       "      <td>7180.0</td>\n",
       "      <td>719.0</td>\n",
       "      <td>0</td>\n",
       "    </tr>\n",
       "  </tbody>\n",
       "</table>\n",
       "</div>"
      ],
      "text/plain": [
       "  Home Ownership  Annual Income  Tax Liens  Number of Open Accounts  \\\n",
       "0       Own Home       482087.0        0.0                     11.0   \n",
       "1       Own Home      1025487.0        0.0                     15.0   \n",
       "2  Home Mortgage       751412.0        0.0                     11.0   \n",
       "3       Own Home       805068.0        0.0                      8.0   \n",
       "4           Rent       776264.0        0.0                     13.0   \n",
       "\n",
       "   Years of Credit History  Maximum Open Credit  Number of Credit Problems  \\\n",
       "0                     26.3             685960.0                        1.0   \n",
       "1                     15.3            1181730.0                        0.0   \n",
       "2                     35.0            1182434.0                        0.0   \n",
       "3                     22.5             147400.0                        1.0   \n",
       "4                     13.6             385836.0                        1.0   \n",
       "\n",
       "   Months since last delinquent  Bankruptcies             Purpose        Term  \\\n",
       "0                           0.0           1.0  debt consolidation  Short Term   \n",
       "1                           0.0           0.0  debt consolidation   Long Term   \n",
       "2                           0.0           0.0  debt consolidation  Short Term   \n",
       "3                           0.0           1.0  debt consolidation  Short Term   \n",
       "4                           0.0           0.0  debt consolidation  Short Term   \n",
       "\n",
       "   Current Loan Amount  Current Credit Balance  Monthly Debt  Credit Score  \\\n",
       "0             309573.0                 47386.0        7914.0         749.0   \n",
       "1             264968.0                394972.0       18373.0         737.0   \n",
       "2             309573.0                308389.0       13651.0         742.0   \n",
       "3             121396.0                 95855.0       11338.0         694.0   \n",
       "4             125840.0                 93309.0        7180.0         719.0   \n",
       "\n",
       "   Credit Default  \n",
       "0               0  \n",
       "1               1  \n",
       "2               0  \n",
       "3               0  \n",
       "4               0  "
      ]
     },
     "execution_count": 22,
     "metadata": {},
     "output_type": "execute_result"
    }
   ],
   "source": [
    "df_base.head()"
   ]
  },
  {
   "cell_type": "markdown",
   "id": "cb745b6b",
   "metadata": {},
   "source": [
    "### Построение новых признаков"
   ]
  },
  {
   "cell_type": "code",
   "execution_count": 23,
   "id": "48f9d812",
   "metadata": {},
   "outputs": [
    {
     "data": {
      "text/plain": [
       "Home Ownership                   object\n",
       "Annual Income                   float64\n",
       "Tax Liens                       float64\n",
       "Number of Open Accounts         float64\n",
       "Years of Credit History         float64\n",
       "Maximum Open Credit             float64\n",
       "Number of Credit Problems       float64\n",
       "Months since last delinquent    float64\n",
       "Bankruptcies                    float64\n",
       "Purpose                          object\n",
       "Term                             object\n",
       "Current Loan Amount             float64\n",
       "Current Credit Balance          float64\n",
       "Monthly Debt                    float64\n",
       "Credit Score                    float64\n",
       "Credit Default                    int64\n",
       "dtype: object"
      ]
     },
     "execution_count": 23,
     "metadata": {},
     "output_type": "execute_result"
    }
   ],
   "source": [
    "df_base.dtypes"
   ]
  },
  {
   "cell_type": "code",
   "execution_count": 24,
   "id": "7dcf0307",
   "metadata": {},
   "outputs": [],
   "source": [
    "df_base_new = df_base.copy()\n",
    "df_base_new['Home Ownership']= df_base_new['Home Ownership'].map({'Own Home':'1', 'Home Mortgage':'2', 'Rent':'3', 'Have Mortgage':'4'})\n",
    "df_base_new['Purpose']= df_base_new['Purpose'].map({'debt consolidation':'1', 'other':'2', 'home improvements':'3', 'take a trip':'4',\n",
    "       'buy a car':'5', 'small business':'6', 'business loan':'7', 'wedding':'8',\n",
    "                                                       'educational expenses':'9', 'buy house':'10', 'medical bills':'11', 'moving':'12',\n",
    "                                                       'major purchase':'13', 'vacation':'14'})\n",
    "df_base_new['Term']= df_base_new['Term'].map({'Short Term':'1', 'Long Term':'2'})\n",
    "\n",
    "\n",
    "\n",
    "for cat_colname in df_base_new.select_dtypes(include='object').columns:    \n",
    "    df_base_new = pd.concat([df_base_new, pd.get_dummies(df_base_new[cat_colname], prefix=cat_colname)], axis=1)"
   ]
  },
  {
   "cell_type": "code",
   "execution_count": 25,
   "id": "31b098e5",
   "metadata": {},
   "outputs": [],
   "source": [
    "df_base_new.drop(columns=['Home Ownership','Purpose','Term'], inplace=True)"
   ]
  },
  {
   "cell_type": "code",
   "execution_count": 26,
   "id": "1d029795",
   "metadata": {},
   "outputs": [],
   "source": [
    "feature_names_new = df_base_new.columns.drop(target_name).to_list()"
   ]
  },
  {
   "cell_type": "code",
   "execution_count": 27,
   "id": "f7a836d6",
   "metadata": {},
   "outputs": [
    {
     "name": "stdout",
     "output_type": "stream",
     "text": [
      "['Annual Income', 'Tax Liens', 'Number of Open Accounts', 'Years of Credit History', 'Maximum Open Credit', 'Number of Credit Problems', 'Months since last delinquent', 'Bankruptcies', 'Current Loan Amount', 'Current Credit Balance', 'Monthly Debt', 'Credit Score', 'Home Ownership_1', 'Home Ownership_2', 'Home Ownership_3', 'Home Ownership_4', 'Purpose_1', 'Purpose_10', 'Purpose_11', 'Purpose_12', 'Purpose_13', 'Purpose_14', 'Purpose_2', 'Purpose_3', 'Purpose_4', 'Purpose_5', 'Purpose_6', 'Purpose_7', 'Purpose_8', 'Purpose_9', 'Term_1', 'Term_2']\n"
     ]
    }
   ],
   "source": [
    "print(feature_names_new)"
   ]
  },
  {
   "cell_type": "markdown",
   "id": "22665e87",
   "metadata": {},
   "source": [
    "### Разбиение выборки на train и test"
   ]
  },
  {
   "cell_type": "code",
   "execution_count": 28,
   "id": "df685c06",
   "metadata": {},
   "outputs": [],
   "source": [
    "X = df_base_new[feature_names_new]\n",
    "y = df_base_new[target_name]\n",
    "X_train, X_test, y_train, y_test = train_test_split(X, y, shuffle=True, test_size=0.30, random_state=21)"
   ]
  },
  {
   "cell_type": "markdown",
   "id": "e1956112",
   "metadata": {},
   "source": [
    "### Нормализация данных"
   ]
  },
  {
   "cell_type": "code",
   "execution_count": 29,
   "id": "cb0d4d90",
   "metadata": {},
   "outputs": [],
   "source": [
    "scaler = StandardScaler()\n",
    "X_tempo = X_train.copy()\n",
    "#print(type(X_test))\n",
    "X_tempo[:] = scaler.fit_transform(X_tempo) #обучили и нормализовали\n",
    "X_train = X_tempo.copy()\n",
    "X_tempo = X_test.copy()\n",
    "X_tempo[:] = scaler.transform(X_tempo) # нормализовали\n",
    "X_test = X_tempo.copy()\n",
    "\n"
   ]
  },
  {
   "cell_type": "markdown",
   "id": "295303fc",
   "metadata": {},
   "source": [
    "### Сохранение модели нормализации"
   ]
  },
  {
   "cell_type": "code",
   "execution_count": 30,
   "id": "e30cff55",
   "metadata": {},
   "outputs": [],
   "source": [
    "with open(scaler_file, 'wb') as file:\n",
    "    pickle.dump(scaler,file)"
   ]
  },
  {
   "cell_type": "markdown",
   "id": "1bd66a87",
   "metadata": {},
   "source": [
    "### Балансировка целевой переменной"
   ]
  },
  {
   "cell_type": "code",
   "execution_count": 31,
   "id": "2a15fff3",
   "metadata": {},
   "outputs": [],
   "source": [
    "# Функция, осуществляющая балансировку методом overSampling\n",
    "def balance_df_by_target(df, target_name):\n",
    "\n",
    "    target_counts = df[target_name].value_counts()\n",
    "    #print(target_counts,\"kkkk\")\n",
    "\n",
    "    major_class_name = target_counts.argmax()\n",
    "    minor_class_name = target_counts.argmin()\n",
    "    #print(major_class_name ,\"jjjjjjjjjjjjjj\")\n",
    "\n",
    "    disbalance_coeff = int(target_counts[major_class_name] / target_counts[minor_class_name]) - 1\n",
    "\n",
    "    for i in range(disbalance_coeff):\n",
    "        sample = df[df[target_name] == minor_class_name].sample(target_counts[minor_class_name])\n",
    "        df = df.append(sample, ignore_index=True)\n",
    "       # print(target_counts[minor_class_name])\n",
    "\n",
    "    return df.sample(frac=1) "
   ]
  },
  {
   "cell_type": "code",
   "execution_count": 32,
   "id": "4683c671",
   "metadata": {},
   "outputs": [
    {
     "name": "stderr",
     "output_type": "stream",
     "text": [
      "/tmp/ipykernel_11977/837632461.py:15: FutureWarning: The frame.append method is deprecated and will be removed from pandas in a future version. Use pandas.concat instead.\n",
      "  df = df.append(sample, ignore_index=True)\n"
     ]
    },
    {
     "data": {
      "text/plain": [
       "0    3771\n",
       "1    2958\n",
       "Name: Credit Default, dtype: int64"
      ]
     },
     "execution_count": 32,
     "metadata": {},
     "output_type": "execute_result"
    }
   ],
   "source": [
    "df_for_balancing = pd.concat([X_train, y_train], axis=1)\n",
    "df_balanced = balance_df_by_target(df_for_balancing, target_name)\n",
    "    \n",
    "df_balanced[target_name].value_counts()\n"
   ]
  },
  {
   "cell_type": "code",
   "execution_count": 33,
   "id": "52ee86b0",
   "metadata": {},
   "outputs": [],
   "source": [
    "X_train = df_balanced.drop(columns = target_name)\n",
    "y_train = df_balanced[target_name]"
   ]
  },
  {
   "cell_type": "markdown",
   "id": "0b196364",
   "metadata": {},
   "source": [
    "### Построение и оценка базовых моделей"
   ]
  },
  {
   "cell_type": "code",
   "execution_count": 34,
   "id": "e5969198",
   "metadata": {},
   "outputs": [],
   "source": [
    "def get_classification_report(y_train_true, y_train_pred, y_test_true, y_test_pred):\n",
    "    print('TRAIN\\n\\n' + classification_report(y_train_true, y_train_pred))\n",
    "    print('TEST\\n\\n' + classification_report(y_test_true, y_test_pred))\n",
    "    print('CONFUSION MATRIX\\n')\n",
    "    print(pd.crosstab(y_test_true, y_test_pred))"
   ]
  },
  {
   "cell_type": "markdown",
   "id": "3a23810a",
   "metadata": {},
   "source": [
    "**Логистическая регрессия**"
   ]
  },
  {
   "cell_type": "code",
   "execution_count": 35,
   "id": "31f7cc9d",
   "metadata": {},
   "outputs": [
    {
     "name": "stdout",
     "output_type": "stream",
     "text": [
      "TRAIN\n",
      "\n",
      "              precision    recall  f1-score   support\n",
      "\n",
      "           0       0.67      0.86      0.75      3771\n",
      "           1       0.72      0.46      0.56      2958\n",
      "\n",
      "    accuracy                           0.68      6729\n",
      "   macro avg       0.69      0.66      0.66      6729\n",
      "weighted avg       0.69      0.68      0.67      6729\n",
      "\n",
      "TEST\n",
      "\n",
      "              precision    recall  f1-score   support\n",
      "\n",
      "           0       0.80      0.85      0.83      1616\n",
      "           1       0.55      0.45      0.50       634\n",
      "\n",
      "    accuracy                           0.74      2250\n",
      "   macro avg       0.67      0.65      0.66      2250\n",
      "weighted avg       0.73      0.74      0.73      2250\n",
      "\n",
      "CONFUSION MATRIX\n",
      "\n",
      "col_0              0    1\n",
      "Credit Default           \n",
      "0               1378  238\n",
      "1                346  288\n"
     ]
    }
   ],
   "source": [
    "model_lr = LogisticRegression()\n",
    "model_lr.fit(X_train, y_train)\n",
    "\n",
    "y_train_pred = model_lr.predict(X_train)\n",
    "y_test_pred = model_lr.predict(X_test)\n",
    "\n",
    "get_classification_report(y_train, y_train_pred, y_test, y_test_pred)"
   ]
  },
  {
   "cell_type": "markdown",
   "id": "c7b31895",
   "metadata": {},
   "source": [
    "**k ближайших соседей**"
   ]
  },
  {
   "cell_type": "code",
   "execution_count": 36,
   "id": "694fa768",
   "metadata": {},
   "outputs": [
    {
     "name": "stderr",
     "output_type": "stream",
     "text": [
      "/home/andrey/anaconda3/lib/python3.9/site-packages/sklearn/neighbors/_classification.py:228: FutureWarning: Unlike other reduction functions (e.g. `skew`, `kurtosis`), the default behavior of `mode` typically preserves the axis it acts along. In SciPy 1.11.0, this behavior will change: the default value of `keepdims` will become False, the `axis` over which the statistic is taken will be eliminated, and the value None will no longer be accepted. Set `keepdims` to True or False to avoid this warning.\n",
      "  mode, _ = stats.mode(_y[neigh_ind, k], axis=1)\n"
     ]
    },
    {
     "name": "stdout",
     "output_type": "stream",
     "text": [
      "TRAIN\n",
      "\n",
      "              precision    recall  f1-score   support\n",
      "\n",
      "           0       0.78      0.86      0.82      3771\n",
      "           1       0.79      0.69      0.74      2958\n",
      "\n",
      "    accuracy                           0.78      6729\n",
      "   macro avg       0.78      0.77      0.78      6729\n",
      "weighted avg       0.78      0.78      0.78      6729\n",
      "\n",
      "TEST\n",
      "\n",
      "              precision    recall  f1-score   support\n",
      "\n",
      "           0       0.78      0.77      0.77      1616\n",
      "           1       0.43      0.45      0.44       634\n",
      "\n",
      "    accuracy                           0.68      2250\n",
      "   macro avg       0.61      0.61      0.61      2250\n",
      "weighted avg       0.68      0.68      0.68      2250\n",
      "\n",
      "CONFUSION MATRIX\n",
      "\n",
      "col_0              0    1\n",
      "Credit Default           \n",
      "0               1242  374\n",
      "1                349  285\n"
     ]
    },
    {
     "name": "stderr",
     "output_type": "stream",
     "text": [
      "/home/andrey/anaconda3/lib/python3.9/site-packages/sklearn/neighbors/_classification.py:228: FutureWarning: Unlike other reduction functions (e.g. `skew`, `kurtosis`), the default behavior of `mode` typically preserves the axis it acts along. In SciPy 1.11.0, this behavior will change: the default value of `keepdims` will become False, the `axis` over which the statistic is taken will be eliminated, and the value None will no longer be accepted. Set `keepdims` to True or False to avoid this warning.\n",
      "  mode, _ = stats.mode(_y[neigh_ind, k], axis=1)\n"
     ]
    }
   ],
   "source": [
    "model_knn = KNeighborsClassifier()\n",
    "model_knn.fit(X_train, y_train)\n",
    "\n",
    "y_train_pred = model_knn.predict(X_train)\n",
    "y_test_pred = model_knn.predict(X_test)\n",
    "\n",
    "get_classification_report(y_train, y_train_pred, y_test, y_test_pred)"
   ]
  },
  {
   "cell_type": "markdown",
   "id": "22b01293",
   "metadata": {},
   "source": [
    "**Бустинговые алгоритмы**"
   ]
  },
  {
   "cell_type": "markdown",
   "id": "4864d7fb",
   "metadata": {},
   "source": [
    "XGBoost"
   ]
  },
  {
   "cell_type": "code",
   "execution_count": 37,
   "id": "89639e88",
   "metadata": {},
   "outputs": [
    {
     "name": "stdout",
     "output_type": "stream",
     "text": [
      "TRAIN\n",
      "\n",
      "              precision    recall  f1-score   support\n",
      "\n",
      "           0       0.98      0.99      0.98      3771\n",
      "           1       0.98      0.97      0.98      2958\n",
      "\n",
      "    accuracy                           0.98      6729\n",
      "   macro avg       0.98      0.98      0.98      6729\n",
      "weighted avg       0.98      0.98      0.98      6729\n",
      "\n",
      "TEST\n",
      "\n",
      "              precision    recall  f1-score   support\n",
      "\n",
      "           0       0.79      0.85      0.82      1616\n",
      "           1       0.52      0.43      0.47       634\n",
      "\n",
      "    accuracy                           0.73      2250\n",
      "   macro avg       0.66      0.64      0.65      2250\n",
      "weighted avg       0.72      0.73      0.72      2250\n",
      "\n",
      "CONFUSION MATRIX\n",
      "\n",
      "col_0              0    1\n",
      "Credit Default           \n",
      "0               1367  249\n",
      "1                360  274\n"
     ]
    }
   ],
   "source": [
    "model_xgb = xgb.XGBClassifier(random_state=21)\n",
    "model_xgb.fit(X_train, y_train)\n",
    "\n",
    "y_train_pred = model_xgb.predict(X_train)\n",
    "y_test_pred = model_xgb.predict(X_test)\n",
    "\n",
    "get_classification_report(y_train, y_train_pred, y_test, y_test_pred)"
   ]
  },
  {
   "cell_type": "markdown",
   "id": "d27d6460",
   "metadata": {},
   "source": [
    "LightGBM"
   ]
  },
  {
   "cell_type": "code",
   "execution_count": 38,
   "id": "71086af9",
   "metadata": {},
   "outputs": [
    {
     "name": "stdout",
     "output_type": "stream",
     "text": [
      "TRAIN\n",
      "\n",
      "              precision    recall  f1-score   support\n",
      "\n",
      "           0       0.91      0.96      0.93      3771\n",
      "           1       0.95      0.88      0.91      2958\n",
      "\n",
      "    accuracy                           0.92      6729\n",
      "   macro avg       0.93      0.92      0.92      6729\n",
      "weighted avg       0.93      0.92      0.92      6729\n",
      "\n",
      "TEST\n",
      "\n",
      "              precision    recall  f1-score   support\n",
      "\n",
      "           0       0.80      0.85      0.82      1616\n",
      "           1       0.54      0.46      0.50       634\n",
      "\n",
      "    accuracy                           0.74      2250\n",
      "   macro avg       0.67      0.65      0.66      2250\n",
      "weighted avg       0.73      0.74      0.73      2250\n",
      "\n",
      "CONFUSION MATRIX\n",
      "\n",
      "col_0              0    1\n",
      "Credit Default           \n",
      "0               1372  244\n",
      "1                344  290\n"
     ]
    }
   ],
   "source": [
    "model_lgbm = lgbm.LGBMClassifier(random_state=21)\n",
    "model_lgbm.fit(X_train, y_train)\n",
    "\n",
    "y_train_pred = model_lgbm.predict(X_train)\n",
    "y_test_pred = model_lgbm.predict(X_test)\n",
    "\n",
    "get_classification_report(y_train, y_train_pred, y_test, y_test_pred)"
   ]
  },
  {
   "cell_type": "markdown",
   "id": "e390cb23",
   "metadata": {},
   "source": [
    "CatBoost"
   ]
  },
  {
   "cell_type": "code",
   "execution_count": 39,
   "id": "25bfa333",
   "metadata": {},
   "outputs": [
    {
     "name": "stdout",
     "output_type": "stream",
     "text": [
      "TRAIN\n",
      "\n",
      "              precision    recall  f1-score   support\n",
      "\n",
      "           0       0.89      0.96      0.92      3771\n",
      "           1       0.94      0.85      0.89      2958\n",
      "\n",
      "    accuracy                           0.91      6729\n",
      "   macro avg       0.91      0.90      0.90      6729\n",
      "weighted avg       0.91      0.91      0.91      6729\n",
      "\n",
      "TEST\n",
      "\n",
      "              precision    recall  f1-score   support\n",
      "\n",
      "           0       0.80      0.85      0.82      1616\n",
      "           1       0.54      0.44      0.49       634\n",
      "\n",
      "    accuracy                           0.74      2250\n",
      "   macro avg       0.67      0.65      0.66      2250\n",
      "weighted avg       0.72      0.74      0.73      2250\n",
      "\n",
      "CONFUSION MATRIX\n",
      "\n",
      "col_0              0    1\n",
      "Credit Default           \n",
      "0               1381  235\n",
      "1                354  280\n"
     ]
    }
   ],
   "source": [
    "model_catb = catb.CatBoostClassifier(silent=True, random_state=21)\n",
    "model_catb.fit(X_train, y_train)\n",
    "\n",
    "y_train_pred = model_catb.predict(X_train)\n",
    "y_test_pred = model_catb.predict(X_test)\n",
    "\n",
    "get_classification_report(y_train, y_train_pred, y_test, y_test_pred)"
   ]
  },
  {
   "cell_type": "markdown",
   "id": "9f4acba6",
   "metadata": {},
   "source": [
    "### Выбор лучшей модели и подбор гиперпараметров"
   ]
  },
  {
   "cell_type": "code",
   "execution_count": 40,
   "id": "c2bbb86c",
   "metadata": {},
   "outputs": [],
   "source": [
    "model_catb = catb.CatBoostClassifier(class_weights=[1, 3.5], silent=True, random_state=30)"
   ]
  },
  {
   "cell_type": "markdown",
   "id": "e66ba6a4",
   "metadata": {},
   "source": [
    "**Подбор гиперпараметров**"
   ]
  },
  {
   "cell_type": "code",
   "execution_count": 41,
   "id": "53224d11",
   "metadata": {},
   "outputs": [],
   "source": [
    "params = {'n_estimators':[50, 100, 200, 500, 700, 1000, 1200, 1500],\n",
    "          'max_depth':[3, 5, 7]}"
   ]
  },
  {
   "cell_type": "code",
   "execution_count": 42,
   "id": "93c68d30",
   "metadata": {},
   "outputs": [],
   "source": [
    "cv=KFold(n_splits=3, random_state=21, shuffle=True)"
   ]
  },
  {
   "cell_type": "code",
   "execution_count": 43,
   "id": "7f5fc4e8",
   "metadata": {},
   "outputs": [
    {
     "name": "stdout",
     "output_type": "stream",
     "text": [
      "CPU times: user 4.47 s, sys: 1.62 s, total: 6.09 s\n",
      "Wall time: 45.2 s\n"
     ]
    },
    {
     "data": {
      "text/plain": [
       "RandomizedSearchCV(cv=KFold(n_splits=3, random_state=21, shuffle=True),\n",
       "                   estimator=<catboost.core.CatBoostClassifier object at 0x7ff76ccdad00>,\n",
       "                   n_jobs=-1,\n",
       "                   param_distributions={'max_depth': [3, 5, 7],\n",
       "                                        'n_estimators': [50, 100, 200, 500, 700,\n",
       "                                                         1000, 1200, 1500]},\n",
       "                   scoring='f1')"
      ]
     },
     "execution_count": 43,
     "metadata": {},
     "output_type": "execute_result"
    }
   ],
   "source": [
    "%%time\n",
    "\n",
    "rs = RandomizedSearchCV(model_catb, params, scoring='f1', cv=cv, n_jobs=-1)\n",
    "rs.fit(X, y)"
   ]
  },
  {
   "cell_type": "code",
   "execution_count": 44,
   "id": "ec60bbe2",
   "metadata": {},
   "outputs": [
    {
     "data": {
      "text/plain": [
       "{'n_estimators': 500, 'max_depth': 5}"
      ]
     },
     "execution_count": 44,
     "metadata": {},
     "output_type": "execute_result"
    }
   ],
   "source": [
    "rs.best_params_"
   ]
  },
  {
   "cell_type": "code",
   "execution_count": 45,
   "id": "47cdddda",
   "metadata": {},
   "outputs": [
    {
     "data": {
      "text/plain": [
       "0.5416573905312809"
      ]
     },
     "execution_count": 45,
     "metadata": {},
     "output_type": "execute_result"
    }
   ],
   "source": [
    "rs.best_score_"
   ]
  },
  {
   "cell_type": "markdown",
   "id": "80a92502",
   "metadata": {},
   "source": [
    "**Обучение и оценка финальной модели**"
   ]
  },
  {
   "cell_type": "code",
   "execution_count": 46,
   "id": "e10c4bec",
   "metadata": {},
   "outputs": [
    {
     "name": "stdout",
     "output_type": "stream",
     "text": [
      "TRAIN\n",
      "\n",
      "              precision    recall  f1-score   support\n",
      "\n",
      "           0       0.76      0.88      0.81      3771\n",
      "           1       0.81      0.64      0.71      2958\n",
      "\n",
      "    accuracy                           0.77      6729\n",
      "   macro avg       0.78      0.76      0.76      6729\n",
      "weighted avg       0.78      0.77      0.77      6729\n",
      "\n",
      "TEST\n",
      "\n",
      "              precision    recall  f1-score   support\n",
      "\n",
      "           0       0.81      0.84      0.83      1616\n",
      "           1       0.55      0.49      0.52       634\n",
      "\n",
      "    accuracy                           0.74      2250\n",
      "   macro avg       0.68      0.67      0.67      2250\n",
      "weighted avg       0.74      0.74      0.74      2250\n",
      "\n",
      "CONFUSION MATRIX\n",
      "\n",
      "col_0              0    1\n",
      "Credit Default           \n",
      "0               1362  254\n",
      "1                321  313\n",
      "CPU times: user 3.05 s, sys: 1.21 s, total: 4.26 s\n",
      "Wall time: 1.03 s\n"
     ]
    }
   ],
   "source": [
    "%%time\n",
    "\n",
    "final_model = catb.CatBoostClassifier(n_estimators=500, max_depth=3,\n",
    "                                      silent=True, random_state=21)\n",
    "final_model.fit(X_train, y_train)\n",
    "\n",
    "y_train_pred = final_model.predict(X_train)\n",
    "y_test_pred = final_model.predict(X_test)\n",
    "\n",
    "get_classification_report(y_train, y_train_pred, y_test, y_test_pred)"
   ]
  },
  {
   "cell_type": "markdown",
   "id": "19250146",
   "metadata": {},
   "source": [
    "### Снижение степени переобучения"
   ]
  },
  {
   "cell_type": "markdown",
   "id": "0ecd8e83",
   "metadata": {},
   "source": [
    "по всем трем показателям (precision    recall  f1-score) для категории 1 целевой переменной значения по тестовой выборке хуже, чем аналогичные значения для обучающей выборки, что говорит о перобучении  \n",
    "Снизим переобучение с помощью l1-регуляризацияя."
   ]
  },
  {
   "cell_type": "code",
   "execution_count": 47,
   "id": "938783f1",
   "metadata": {},
   "outputs": [
    {
     "name": "stdout",
     "output_type": "stream",
     "text": [
      "TRAIN\n",
      "\n",
      "              precision    recall  f1-score   support\n",
      "\n",
      "           0       0.73      0.87      0.79      3771\n",
      "           1       0.78      0.59      0.67      2958\n",
      "\n",
      "    accuracy                           0.75      6729\n",
      "   macro avg       0.76      0.73      0.73      6729\n",
      "weighted avg       0.75      0.75      0.74      6729\n",
      "\n",
      "TEST\n",
      "\n",
      "              precision    recall  f1-score   support\n",
      "\n",
      "           0       0.81      0.85      0.83      1616\n",
      "           1       0.55      0.48      0.52       634\n",
      "\n",
      "    accuracy                           0.74      2250\n",
      "   macro avg       0.68      0.66      0.67      2250\n",
      "weighted avg       0.73      0.74      0.74      2250\n",
      "\n",
      "CONFUSION MATRIX\n",
      "\n",
      "col_0              0    1\n",
      "Credit Default           \n",
      "0               1368  248\n",
      "1                328  306\n"
     ]
    }
   ],
   "source": [
    "final_model = catb.CatBoostClassifier(n_estimators=500, max_depth=3,\n",
    "                                      l2_leaf_reg=10,\n",
    "                                      silent=True, random_state=21)\n",
    "final_model.fit(X_train, y_train)\n",
    "\n",
    "y_train_pred = final_model.predict(X_train)\n",
    "y_test_pred = final_model.predict(X_test)\n",
    "y_test_pred_probs = final_model.predict_proba(X_test)\n",
    "\n",
    "get_classification_report(y_train, y_train_pred, y_test, y_test_pred)"
   ]
  },
  {
   "cell_type": "markdown",
   "id": "70bf0761",
   "metadata": {},
   "source": [
    "### Важность признаков"
   ]
  },
  {
   "cell_type": "code",
   "execution_count": 48,
   "id": "4e763f7e",
   "metadata": {},
   "outputs": [],
   "source": [
    "def show_feature_importances(feature_names, feature_importances, get_top=None):\n",
    "    feature_importances = pd.DataFrame({'feature': feature_names, 'importance': feature_importances})\n",
    "    feature_importances = feature_importances.sort_values('importance', ascending=False)\n",
    "       \n",
    "    plt.figure(figsize = (20, len(feature_importances) * 0.355))\n",
    "    \n",
    "    sns.barplot(feature_importances['importance'], feature_importances['feature'])\n",
    "    \n",
    "    plt.xlabel('Importance')\n",
    "    plt.title('Importance of features')\n",
    "    plt.show()\n",
    "    \n",
    "    if get_top is not None:\n",
    "        return feature_importances['feature'][:get_top].tolist()"
   ]
  },
  {
   "cell_type": "code",
   "execution_count": 49,
   "id": "8cf83ff1",
   "metadata": {},
   "outputs": [
    {
     "name": "stderr",
     "output_type": "stream",
     "text": [
      "/home/andrey/anaconda3/lib/python3.9/site-packages/seaborn/_decorators.py:36: FutureWarning: Pass the following variables as keyword args: x, y. From version 0.12, the only valid positional argument will be `data`, and passing other arguments without an explicit keyword will result in an error or misinterpretation.\n",
      "  warnings.warn(\n"
     ]
    },
    {
     "data": {
      "image/png": "[encoded data removed]",
      "text/plain": [
       "<Figure size 2000x1136 with 1 Axes>"
      ]
     },
     "metadata": {},
     "output_type": "display_data"
    }
   ],
   "source": [
    "important_features_top = show_feature_importances(X_train.columns, final_model.feature_importances_, get_top=15)"
   ]
  },
  {
   "cell_type": "code",
   "execution_count": 50,
   "id": "657f77bc",
   "metadata": {},
   "outputs": [
    {
     "data": {
      "text/plain": [
       "['Credit Score',\n",
       " 'Current Loan Amount',\n",
       " 'Annual Income',\n",
       " 'Maximum Open Credit',\n",
       " 'Monthly Debt',\n",
       " 'Years of Credit History',\n",
       " 'Term_2',\n",
       " 'Term_1',\n",
       " 'Current Credit Balance',\n",
       " 'Number of Open Accounts',\n",
       " 'Months since last delinquent',\n",
       " 'Home Ownership_3',\n",
       " 'Home Ownership_2',\n",
       " 'Purpose_7',\n",
       " 'Tax Liens']"
      ]
     },
     "execution_count": 50,
     "metadata": {},
     "output_type": "execute_result"
    }
   ],
   "source": [
    "important_features_top"
   ]
  },
  {
   "cell_type": "markdown",
   "id": "f1ef3706",
   "metadata": {},
   "source": [
    "### Финальная модель"
   ]
  },
  {
   "cell_type": "code",
   "execution_count": 51,
   "id": "67d272ed",
   "metadata": {},
   "outputs": [
    {
     "name": "stdout",
     "output_type": "stream",
     "text": [
      "TRAIN\n",
      "\n",
      "              precision    recall  f1-score   support\n",
      "\n",
      "           0       0.73      0.87      0.79      3771\n",
      "           1       0.78      0.59      0.67      2958\n",
      "\n",
      "    accuracy                           0.75      6729\n",
      "   macro avg       0.75      0.73      0.73      6729\n",
      "weighted avg       0.75      0.75      0.74      6729\n",
      "\n",
      "TEST\n",
      "\n",
      "              precision    recall  f1-score   support\n",
      "\n",
      "           0       0.81      0.84      0.83      1616\n",
      "           1       0.55      0.49      0.52       634\n",
      "\n",
      "    accuracy                           0.75      2250\n",
      "   macro avg       0.68      0.67      0.67      2250\n",
      "weighted avg       0.74      0.75      0.74      2250\n",
      "\n",
      "CONFUSION MATRIX\n",
      "\n",
      "col_0              0    1\n",
      "Credit Default           \n",
      "0               1365  251\n",
      "1                322  312\n"
     ]
    }
   ],
   "source": [
    "final_model = catb.CatBoostClassifier(n_estimators=500, max_depth=3, l2_leaf_reg=10,\n",
    "                                      silent=True, random_state=21)\n",
    "final_model.fit(X_train[important_features_top], y_train)\n",
    "\n",
    "y_train_pred = final_model.predict(X_train[important_features_top])\n",
    "y_test_pred = final_model.predict(X_test[important_features_top])\n",
    "y_test_pred_probs = final_model.predict_proba(X_test[important_features_top])\n",
    "\n",
    "get_classification_report(y_train, y_train_pred, y_test, y_test_pred)"
   ]
  },
  {
   "cell_type": "markdown",
   "id": "e86cb9b9",
   "metadata": {},
   "source": [
    "### Сохранение финальной модели"
   ]
  },
  {
   "cell_type": "code",
   "execution_count": 52,
   "id": "984bac75",
   "metadata": {},
   "outputs": [],
   "source": [
    "with open(MODEL_FILE_PATH, 'wb') as file:\n",
    "    pickle.dump(final_model, file)"
   ]
  },
  {
   "cell_type": "markdown",
   "id": "f044e2dc",
   "metadata": {},
   "source": [
    "### Подготовка тестового датасета"
   ]
  },
  {
   "cell_type": "code",
   "execution_count": 53,
   "id": "1377e733",
   "metadata": {},
   "outputs": [],
   "source": [
    "df_test[CAT_FEATURES_NAMES].astype(str)\n",
    "df_test.drop('Years in current job', axis=1, inplace=True)\n",
    "df_test.loc[df_test.isna()['Annual Income'], 'Annual Income'] = df_test['Annual Income'].median()\n",
    "df_test.loc[df_test.isna()['Credit Score'], 'Credit Score'] = df_test['Credit Score'].median()\n",
    "df_test.loc[df_test.isna()['Bankruptcies'], 'Bankruptcies'] = df_test['Bankruptcies'].median()\n",
    "df_test.loc[df_test.isna()['Months since last delinquent'], 'Months since last delinquent'] = 0\n"
   ]
  },
  {
   "cell_type": "code",
   "execution_count": 54,
   "id": "d0869457",
   "metadata": {},
   "outputs": [],
   "source": [
    "df_test['Home Ownership']= df_test['Home Ownership'].map({'Own Home':'1', 'Home Mortgage':'2', 'Rent':'3', 'Have Mortgage':'4'})\n",
    "df_test['Purpose']= df_test['Purpose'].map({'debt consolidation':'1', 'other':'2', 'home improvements':'3', 'take a trip':'4',\n",
    "       'buy a car':'5', 'small business':'6', 'business loan':'7', 'wedding':'8',\n",
    "                                                       'educational expenses':'9', 'buy house':'10', 'medical bills':'11', 'moving':'12',\n",
    "                                                       'major purchase':'13', 'vacation':'14'})\n",
    "df_test['Term']= df_test['Term'].map({'Short Term':'1', 'Long Term':'2'})\n",
    "\n",
    "\n",
    "\n",
    "for cat_colname in df_test.select_dtypes(include='object').columns:    \n",
    "    df_test = pd.concat([df_test, pd.get_dummies(df_test[cat_colname], prefix=cat_colname)], axis=1)"
   ]
  },
  {
   "cell_type": "code",
   "execution_count": 55,
   "id": "ec62f615",
   "metadata": {},
   "outputs": [],
   "source": [
    "df_test.drop(columns=['Home Ownership','Purpose','Term'], inplace=True)"
   ]
  },
  {
   "cell_type": "code",
   "execution_count": 56,
   "id": "31c653ec",
   "metadata": {},
   "outputs": [],
   "source": [
    "X_tempo = df_test.copy()\n",
    "X_tempo[:] = scaler.transform(X_tempo) # нормализовали\n",
    "df_test= X_tempo.copy()\n"
   ]
  },
  {
   "cell_type": "code",
   "execution_count": 57,
   "id": "6f896516",
   "metadata": {},
   "outputs": [],
   "source": [
    "y_test_pred = pd.DataFrame(final_model.predict(df_test[important_features_top]), columns=['Credit Default'])"
   ]
  },
  {
   "cell_type": "code",
   "execution_count": 58,
   "id": "28438b63",
   "metadata": {},
   "outputs": [
    {
     "data": {
      "text/html": [
       "<div>\n",
       "<style scoped>\n",
       "    .dataframe tbody tr th:only-of-type {\n",
       "        vertical-align: middle;\n",
       "    }\n",
       "\n",
       "    .dataframe tbody tr th {\n",
       "        vertical-align: top;\n",
       "    }\n",
       "\n",
       "    .dataframe thead th {\n",
       "        text-align: right;\n",
       "    }\n",
       "</style>\n",
       "<table border=\"1\" class=\"dataframe\">\n",
       "  <thead>\n",
       "    <tr style=\"text-align: right;\">\n",
       "      <th></th>\n",
       "      <th>Annual Income</th>\n",
       "      <th>Tax Liens</th>\n",
       "      <th>Number of Open Accounts</th>\n",
       "      <th>Years of Credit History</th>\n",
       "      <th>Maximum Open Credit</th>\n",
       "      <th>Number of Credit Problems</th>\n",
       "      <th>Months since last delinquent</th>\n",
       "      <th>Bankruptcies</th>\n",
       "      <th>Current Loan Amount</th>\n",
       "      <th>Current Credit Balance</th>\n",
       "      <th>...</th>\n",
       "      <th>Purpose_3</th>\n",
       "      <th>Purpose_4</th>\n",
       "      <th>Purpose_5</th>\n",
       "      <th>Purpose_6</th>\n",
       "      <th>Purpose_7</th>\n",
       "      <th>Purpose_8</th>\n",
       "      <th>Purpose_9</th>\n",
       "      <th>Term_1</th>\n",
       "      <th>Term_2</th>\n",
       "      <th>Credit Default</th>\n",
       "    </tr>\n",
       "  </thead>\n",
       "  <tbody>\n",
       "    <tr>\n",
       "      <th>0</th>\n",
       "      <td>-0.198253</td>\n",
       "      <td>-0.112569</td>\n",
       "      <td>-0.435267</td>\n",
       "      <td>-0.829106</td>\n",
       "      <td>-0.043420</td>\n",
       "      <td>-0.339902</td>\n",
       "      <td>2.400847</td>\n",
       "      <td>-0.338096</td>\n",
       "      <td>-0.855808</td>\n",
       "      <td>-0.573950</td>\n",
       "      <td>...</td>\n",
       "      <td>-0.242682</td>\n",
       "      <td>-0.06487</td>\n",
       "      <td>-0.113696</td>\n",
       "      <td>-0.061839</td>\n",
       "      <td>-0.132812</td>\n",
       "      <td>-0.045822</td>\n",
       "      <td>-0.036539</td>\n",
       "      <td>0.593629</td>\n",
       "      <td>-0.593629</td>\n",
       "      <td>0</td>\n",
       "    </tr>\n",
       "    <tr>\n",
       "      <th>1</th>\n",
       "      <td>-1.483346</td>\n",
       "      <td>-0.112569</td>\n",
       "      <td>-1.044424</td>\n",
       "      <td>2.041856</td>\n",
       "      <td>-0.052046</td>\n",
       "      <td>-0.339902</td>\n",
       "      <td>-0.344014</td>\n",
       "      <td>-0.338096</td>\n",
       "      <td>-1.339559</td>\n",
       "      <td>-0.760178</td>\n",
       "      <td>...</td>\n",
       "      <td>-0.242682</td>\n",
       "      <td>-0.06487</td>\n",
       "      <td>-0.113696</td>\n",
       "      <td>-0.061839</td>\n",
       "      <td>-0.132812</td>\n",
       "      <td>-0.045822</td>\n",
       "      <td>27.367864</td>\n",
       "      <td>0.593629</td>\n",
       "      <td>-0.593629</td>\n",
       "      <td>1</td>\n",
       "    </tr>\n",
       "    <tr>\n",
       "      <th>2</th>\n",
       "      <td>-0.233460</td>\n",
       "      <td>-0.112569</td>\n",
       "      <td>-0.232214</td>\n",
       "      <td>-0.658553</td>\n",
       "      <td>-0.044276</td>\n",
       "      <td>-0.339902</td>\n",
       "      <td>-0.698190</td>\n",
       "      <td>-0.338096</td>\n",
       "      <td>-0.639094</td>\n",
       "      <td>-0.447710</td>\n",
       "      <td>...</td>\n",
       "      <td>-0.242682</td>\n",
       "      <td>-0.06487</td>\n",
       "      <td>-0.113696</td>\n",
       "      <td>-0.061839</td>\n",
       "      <td>-0.132812</td>\n",
       "      <td>-0.045822</td>\n",
       "      <td>-0.036539</td>\n",
       "      <td>0.593629</td>\n",
       "      <td>-0.593629</td>\n",
       "      <td>1</td>\n",
       "    </tr>\n",
       "    <tr>\n",
       "      <th>3</th>\n",
       "      <td>-0.141456</td>\n",
       "      <td>-0.112569</td>\n",
       "      <td>0.986099</td>\n",
       "      <td>-0.189535</td>\n",
       "      <td>-0.031120</td>\n",
       "      <td>-0.339902</td>\n",
       "      <td>2.400847</td>\n",
       "      <td>-0.338096</td>\n",
       "      <td>-0.540219</td>\n",
       "      <td>-0.240205</td>\n",
       "      <td>...</td>\n",
       "      <td>-0.242682</td>\n",
       "      <td>-0.06487</td>\n",
       "      <td>-0.113696</td>\n",
       "      <td>-0.061839</td>\n",
       "      <td>-0.132812</td>\n",
       "      <td>-0.045822</td>\n",
       "      <td>-0.036539</td>\n",
       "      <td>0.593629</td>\n",
       "      <td>-0.593629</td>\n",
       "      <td>0</td>\n",
       "    </tr>\n",
       "    <tr>\n",
       "      <th>4</th>\n",
       "      <td>1.379852</td>\n",
       "      <td>-0.112569</td>\n",
       "      <td>-0.029162</td>\n",
       "      <td>0.748502</td>\n",
       "      <td>0.008131</td>\n",
       "      <td>-0.339902</td>\n",
       "      <td>-0.698190</td>\n",
       "      <td>-0.338096</td>\n",
       "      <td>2.679643</td>\n",
       "      <td>0.419836</td>\n",
       "      <td>...</td>\n",
       "      <td>-0.242682</td>\n",
       "      <td>-0.06487</td>\n",
       "      <td>-0.113696</td>\n",
       "      <td>-0.061839</td>\n",
       "      <td>-0.132812</td>\n",
       "      <td>-0.045822</td>\n",
       "      <td>-0.036539</td>\n",
       "      <td>-1.684553</td>\n",
       "      <td>1.684553</td>\n",
       "      <td>0</td>\n",
       "    </tr>\n",
       "    <tr>\n",
       "      <th>...</th>\n",
       "      <td>...</td>\n",
       "      <td>...</td>\n",
       "      <td>...</td>\n",
       "      <td>...</td>\n",
       "      <td>...</td>\n",
       "      <td>...</td>\n",
       "      <td>...</td>\n",
       "      <td>...</td>\n",
       "      <td>...</td>\n",
       "      <td>...</td>\n",
       "      <td>...</td>\n",
       "      <td>...</td>\n",
       "      <td>...</td>\n",
       "      <td>...</td>\n",
       "      <td>...</td>\n",
       "      <td>...</td>\n",
       "      <td>...</td>\n",
       "      <td>...</td>\n",
       "      <td>...</td>\n",
       "      <td>...</td>\n",
       "      <td>...</td>\n",
       "    </tr>\n",
       "    <tr>\n",
       "      <th>2495</th>\n",
       "      <td>-0.413316</td>\n",
       "      <td>-0.112569</td>\n",
       "      <td>0.579995</td>\n",
       "      <td>1.530200</td>\n",
       "      <td>-0.025744</td>\n",
       "      <td>1.690228</td>\n",
       "      <td>2.312303</td>\n",
       "      <td>2.630140</td>\n",
       "      <td>572.927225</td>\n",
       "      <td>-0.397178</td>\n",
       "      <td>...</td>\n",
       "      <td>-0.242682</td>\n",
       "      <td>-0.06487</td>\n",
       "      <td>-0.113696</td>\n",
       "      <td>-0.061839</td>\n",
       "      <td>-0.132812</td>\n",
       "      <td>-0.045822</td>\n",
       "      <td>-0.036539</td>\n",
       "      <td>0.593629</td>\n",
       "      <td>-0.593629</td>\n",
       "      <td>0</td>\n",
       "    </tr>\n",
       "    <tr>\n",
       "      <th>2496</th>\n",
       "      <td>-0.198253</td>\n",
       "      <td>-0.112569</td>\n",
       "      <td>0.783047</td>\n",
       "      <td>-0.189535</td>\n",
       "      <td>0.035860</td>\n",
       "      <td>-0.339902</td>\n",
       "      <td>2.710750</td>\n",
       "      <td>-0.338096</td>\n",
       "      <td>0.903067</td>\n",
       "      <td>3.573593</td>\n",
       "      <td>...</td>\n",
       "      <td>-0.242682</td>\n",
       "      <td>-0.06487</td>\n",
       "      <td>-0.113696</td>\n",
       "      <td>-0.061839</td>\n",
       "      <td>-0.132812</td>\n",
       "      <td>-0.045822</td>\n",
       "      <td>-0.036539</td>\n",
       "      <td>0.593629</td>\n",
       "      <td>-0.593629</td>\n",
       "      <td>1</td>\n",
       "    </tr>\n",
       "    <tr>\n",
       "      <th>2497</th>\n",
       "      <td>-0.207306</td>\n",
       "      <td>-0.112569</td>\n",
       "      <td>7.483774</td>\n",
       "      <td>-0.786468</td>\n",
       "      <td>0.034221</td>\n",
       "      <td>-0.339902</td>\n",
       "      <td>-0.698190</td>\n",
       "      <td>-0.338096</td>\n",
       "      <td>0.684582</td>\n",
       "      <td>1.200740</td>\n",
       "      <td>...</td>\n",
       "      <td>-0.242682</td>\n",
       "      <td>-0.06487</td>\n",
       "      <td>-0.113696</td>\n",
       "      <td>-0.061839</td>\n",
       "      <td>-0.132812</td>\n",
       "      <td>-0.045822</td>\n",
       "      <td>-0.036539</td>\n",
       "      <td>0.593629</td>\n",
       "      <td>-0.593629</td>\n",
       "      <td>1</td>\n",
       "    </tr>\n",
       "    <tr>\n",
       "      <th>2498</th>\n",
       "      <td>-0.815870</td>\n",
       "      <td>-0.112569</td>\n",
       "      <td>0.579995</td>\n",
       "      <td>1.487562</td>\n",
       "      <td>-0.005536</td>\n",
       "      <td>-0.339902</td>\n",
       "      <td>-0.698190</td>\n",
       "      <td>-0.338096</td>\n",
       "      <td>-0.308080</td>\n",
       "      <td>0.313632</td>\n",
       "      <td>...</td>\n",
       "      <td>-0.242682</td>\n",
       "      <td>-0.06487</td>\n",
       "      <td>-0.113696</td>\n",
       "      <td>-0.061839</td>\n",
       "      <td>-0.132812</td>\n",
       "      <td>-0.045822</td>\n",
       "      <td>-0.036539</td>\n",
       "      <td>0.593629</td>\n",
       "      <td>-0.593629</td>\n",
       "      <td>0</td>\n",
       "    </tr>\n",
       "    <tr>\n",
       "      <th>2499</th>\n",
       "      <td>0.502187</td>\n",
       "      <td>-0.112569</td>\n",
       "      <td>0.173890</td>\n",
       "      <td>0.009443</td>\n",
       "      <td>0.007738</td>\n",
       "      <td>1.690228</td>\n",
       "      <td>2.489390</td>\n",
       "      <td>-0.338096</td>\n",
       "      <td>2.595562</td>\n",
       "      <td>0.837091</td>\n",
       "      <td>...</td>\n",
       "      <td>-0.242682</td>\n",
       "      <td>-0.06487</td>\n",
       "      <td>-0.113696</td>\n",
       "      <td>-0.061839</td>\n",
       "      <td>-0.132812</td>\n",
       "      <td>-0.045822</td>\n",
       "      <td>-0.036539</td>\n",
       "      <td>-1.684553</td>\n",
       "      <td>1.684553</td>\n",
       "      <td>1</td>\n",
       "    </tr>\n",
       "  </tbody>\n",
       "</table>\n",
       "<p>2500 rows × 33 columns</p>\n",
       "</div>"
      ],
      "text/plain": [
       "      Annual Income  Tax Liens  Number of Open Accounts  \\\n",
       "0         -0.198253  -0.112569                -0.435267   \n",
       "1         -1.483346  -0.112569                -1.044424   \n",
       "2         -0.233460  -0.112569                -0.232214   \n",
       "3         -0.141456  -0.112569                 0.986099   \n",
       "4          1.379852  -0.112569                -0.029162   \n",
       "...             ...        ...                      ...   \n",
       "2495      -0.413316  -0.112569                 0.579995   \n",
       "2496      -0.198253  -0.112569                 0.783047   \n",
       "2497      -0.207306  -0.112569                 7.483774   \n",
       "2498      -0.815870  -0.112569                 0.579995   \n",
       "2499       0.502187  -0.112569                 0.173890   \n",
       "\n",
       "      Years of Credit History  Maximum Open Credit  Number of Credit Problems  \\\n",
       "0                   -0.829106            -0.043420                  -0.339902   \n",
       "1                    2.041856            -0.052046                  -0.339902   \n",
       "2                   -0.658553            -0.044276                  -0.339902   \n",
       "3                   -0.189535            -0.031120                  -0.339902   \n",
       "4                    0.748502             0.008131                  -0.339902   \n",
       "...                       ...                  ...                        ...   \n",
       "2495                 1.530200            -0.025744                   1.690228   \n",
       "2496                -0.189535             0.035860                  -0.339902   \n",
       "2497                -0.786468             0.034221                  -0.339902   \n",
       "2498                 1.487562            -0.005536                  -0.339902   \n",
       "2499                 0.009443             0.007738                   1.690228   \n",
       "\n",
       "      Months since last delinquent  Bankruptcies  Current Loan Amount  \\\n",
       "0                         2.400847     -0.338096            -0.855808   \n",
       "1                        -0.344014     -0.338096            -1.339559   \n",
       "2                        -0.698190     -0.338096            -0.639094   \n",
       "3                         2.400847     -0.338096            -0.540219   \n",
       "4                        -0.698190     -0.338096             2.679643   \n",
       "...                            ...           ...                  ...   \n",
       "2495                      2.312303      2.630140           572.927225   \n",
       "2496                      2.710750     -0.338096             0.903067   \n",
       "2497                     -0.698190     -0.338096             0.684582   \n",
       "2498                     -0.698190     -0.338096            -0.308080   \n",
       "2499                      2.489390     -0.338096             2.595562   \n",
       "\n",
       "      Current Credit Balance  ...  Purpose_3  Purpose_4  Purpose_5  Purpose_6  \\\n",
       "0                  -0.573950  ...  -0.242682   -0.06487  -0.113696  -0.061839   \n",
       "1                  -0.760178  ...  -0.242682   -0.06487  -0.113696  -0.061839   \n",
       "2                  -0.447710  ...  -0.242682   -0.06487  -0.113696  -0.061839   \n",
       "3                  -0.240205  ...  -0.242682   -0.06487  -0.113696  -0.061839   \n",
       "4                   0.419836  ...  -0.242682   -0.06487  -0.113696  -0.061839   \n",
       "...                      ...  ...        ...        ...        ...        ...   \n",
       "2495               -0.397178  ...  -0.242682   -0.06487  -0.113696  -0.061839   \n",
       "2496                3.573593  ...  -0.242682   -0.06487  -0.113696  -0.061839   \n",
       "2497                1.200740  ...  -0.242682   -0.06487  -0.113696  -0.061839   \n",
       "2498                0.313632  ...  -0.242682   -0.06487  -0.113696  -0.061839   \n",
       "2499                0.837091  ...  -0.242682   -0.06487  -0.113696  -0.061839   \n",
       "\n",
       "      Purpose_7  Purpose_8  Purpose_9    Term_1    Term_2  Credit Default  \n",
       "0     -0.132812  -0.045822  -0.036539  0.593629 -0.593629               0  \n",
       "1     -0.132812  -0.045822  27.367864  0.593629 -0.593629               1  \n",
       "2     -0.132812  -0.045822  -0.036539  0.593629 -0.593629               1  \n",
       "3     -0.132812  -0.045822  -0.036539  0.593629 -0.593629               0  \n",
       "4     -0.132812  -0.045822  -0.036539 -1.684553  1.684553               0  \n",
       "...         ...        ...        ...       ...       ...             ...  \n",
       "2495  -0.132812  -0.045822  -0.036539  0.593629 -0.593629               0  \n",
       "2496  -0.132812  -0.045822  -0.036539  0.593629 -0.593629               1  \n",
       "2497  -0.132812  -0.045822  -0.036539  0.593629 -0.593629               1  \n",
       "2498  -0.132812  -0.045822  -0.036539  0.593629 -0.593629               0  \n",
       "2499  -0.132812  -0.045822  -0.036539 -1.684553  1.684553               1  \n",
       "\n",
       "[2500 rows x 33 columns]"
      ]
     },
     "execution_count": 58,
     "metadata": {},
     "output_type": "execute_result"
    }
   ],
   "source": [
    "df_pred = pd.concat([df_test,y_test_pred],axis=1)\n",
    "df_pred"
   ]
  },
  {
   "cell_type": "markdown",
   "id": "8d7bf4c0",
   "metadata": {},
   "source": [
    "Сохраним таблицу в csv-файл.\n"
   ]
  },
  {
   "cell_type": "code",
   "execution_count": 59,
   "id": "763203e5",
   "metadata": {},
   "outputs": [],
   "source": [
    "df_pred.to_csv(pred_data)"
   ]
  },
  {
   "cell_type": "code",
   "execution_count": null,
   "id": "a1a6b8a1",
   "metadata": {},
   "outputs": [],
   "source": []
  }
 ],
 "metadata": {
  "kernelspec": {
   "display_name": "Python 3 (ipykernel)",
   "language": "python",
   "name": "python3"
  },
  "language_info": {
   "codemirror_mode": {
    "name": "ipython",
    "version": 3
   },
   "file_extension": ".py",
   "mimetype": "text/x-python",
   "name": "python",
   "nbconvert_exporter": "python",
   "pygments_lexer": "ipython3",
   "version": "3.9.12"
  }
 },
 "nbformat": 4,
 "nbformat_minor": 5
}
